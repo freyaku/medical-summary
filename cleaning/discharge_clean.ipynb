{
 "cells": [
  {
   "cell_type": "code",
   "execution_count": 5,
   "metadata": {},
   "outputs": [
    {
     "name": "stderr",
     "output_type": "stream",
     "text": [
      "c:\\Users\\zhi-n\\anaconda3\\envs\\myenv\\lib\\site-packages\\tqdm\\auto.py:21: TqdmWarning: IProgress not found. Please update jupyter and ipywidgets. See https://ipywidgets.readthedocs.io/en/stable/user_install.html\n",
      "  from .autonotebook import tqdm as notebook_tqdm\n"
     ]
    }
   ],
   "source": [
    "import pandas as pd\n",
    "import numpy as np\n",
    "import re\n",
    "from transformers import pipeline\n",
    "file_path = \"C:\\\\Users\\\\zhi-n\\\\Documents\\\\FIT3163\\\\mimic-iv-note\\\\discharge.csv\"\n",
    "data = pd.read_csv(file_path)"
   ]
  },
  {
   "cell_type": "code",
   "execution_count": 6,
   "metadata": {},
   "outputs": [],
   "source": [
    "data.head(5)\n",
    "summarizer = pipeline(\"summarization\", model=\"Falconsai/medical_summarization\", tokenizer=\"t5-large\")"
   ]
  },
  {
   "cell_type": "code",
   "execution_count": 18,
   "metadata": {},
   "outputs": [
    {
     "name": "stdout",
     "output_type": "stream",
     "text": [
      "Allergies: No Known Allergies / Adverse Drug Reactions Attending: Chief Complaint: Worsening ABD distension and pain Major Surgical or Invasive Procedure: Paracentesis History of Present Illness: we report a case of a patient with cirrhosis c/b ascites , hiv on ART , h/o IVDU, COPD, bioplar, PTSD , presented from OSH ED with worsening abd distension over past week . pt reports self-discontinuing lasix and spirnolactone weeks ago , because she feels like \"they don't do anything\" and that she \"doesn't want put more chemicals in her . Past Medical History: a 15 mm hypoechoic lesion on her ultrasound on and is being monitored by an MRI . she also had another lesion in her forehead with purple discoloration . it was biopsied to exclude the possibility of 's sarcoma, the results is pending . Social History:  Family History: she a total of five siblings , but she is not talking to most of them . she only has one brother that she is in touch with and lives in . her last alcohol consumption was one drink two months ago. No regular alcohol consumption. Last drug use years ago. She quit smoking a couple of years ago . Physical Exam: neoplasmic sclera ( nad ) is a rare sclerosis characterized by a wide range of apoptosis , including a spherical spleen edge distension . nna -  Discharge:  PHYSICAL EXAMINATION: sclera is a rare sclerosis characterized by a wide range of apoptosis , including a large number of neoplasms . a number of the Pertinent Results: portal veins with normal hepatopetal flow have been reported to be a major cause of cirrhosis . the etiology of portal hypertension is unknown . cxR: no acute cardiopulmonary process . clinical para attempted in the ED, unsuccessful . Brief Hospital Course: c/b ascites, hiv on ART, h/o IVDU, COPD, bioplar, PTSD, presented from OSH ED with worsening abd distension over past week and confusion . likely portal HTN given underlying liver disease, though no ascitic fluid available on night of admission . this was to med non-compliance and lack diet restriction . Medications on Admission: the preadmission medication list is accurate and complete . the Preadmission Medication List is accurate , complete and accurate . a complete list of pharmacokinetics is available . this list is based on a number of methods . Discharge Medications: albuterol inhaler 2 PUFF IH Q4H:PRN wheezing, SOB 2. Emtricitabine-Tenofovir (Truvada) 1 TAB PO DAILY 3. Furosemide 40 mg 1 tablet(s) by mouth Daily Disp #*30 Tablet Discharge Disposition: Home Discharge Diagnosis: Ascites from Portal HTN Discharge Condition: Mental Status: Clear and coherent. Level of Consciousness: Alert and interactive. Activity Status: Ambulatory - Independent. Discharge Instructions: urinate the excess fluid still in your belly , and it's likely that you weren't taking a high enough dose of lasix . we recommend taking these medications daily to keep excess fluid off and eat a low salt diet . here we are always here if you need us . Followup Instructions: \n"
     ]
    }
   ],
   "source": [
    "def extract_sections(note):\n",
    "    \"\"\"Extracts sections from the medical note based on headers.\"\"\"\n",
    "    sections = {}\n",
    "    lines = note.split('\\n')\n",
    "    current_header = None\n",
    "    content = []\n",
    "    for line in lines:\n",
    "        line = line.strip()\n",
    "        if re.match(r'^[A-Z][\\w\\s-]*(?::)\\s*$', line):\n",
    "            if current_header is not None:\n",
    "                sections[current_header] = ' '.join(content)\n",
    "            current_header = line.rstrip(':')\n",
    "            content = []\n",
    "        else:\n",
    "            content.append(line)\n",
    "    if current_header is not None:\n",
    "        sections[current_header] = ' '.join(content)\n",
    "    return sections\n",
    "\n",
    "def clean_text(text):\n",
    "    \"\"\"Cleans the text by removing unnecessary characters and spaces.\"\"\"\n",
    "    text = re.sub(r'_{2,}|={2,}|-{2,}', '', text)\n",
    "    text = re.sub(r'\\s+', ' ', text)\n",
    "    return text.strip()\n",
    "\n",
    "def summarize_section(header, text):\n",
    "    \"\"\"Summarizes the text using a pre-trained summarization model and includes the header.\"\"\"\n",
    "    cleaned_text = clean_text(text)\n",
    "    tokens = cleaned_text.split()\n",
    "    token_length = len(tokens)\n",
    "\n",
    "    if token_length < 30:  # Consider skipping very short texts\n",
    "        return f\"{header}: {cleaned_text}\"  # Include the header in the output\n",
    "\n",
    "    try:\n",
    "        max_len = min(max(150, int(token_length * 0.75)), token_length)  # Dynamically setting max_length\n",
    "        summary = summarizer(\n",
    "            cleaned_text,\n",
    "            max_length=max_len,\n",
    "            min_length=10,  # Minimum length of summary\n",
    "            truncation=True\n",
    "        )[0]['summary_text']\n",
    "        return f\"{header}: {summary}\"  # Prefix the summary with its section header\n",
    "    except Exception as e:\n",
    "        print(f\"Error during summarization: {str(e)}\")\n",
    "        return f\"{header}: {cleaned_text}\"  # Fallback to using cleaned text if an error occurs\n",
    "\n",
    "\n",
    "# Get the text from the first row\n",
    "first_row_text = data.loc[0, 'text']\n",
    "\n",
    "# Extract and summarize sections from the first row's text\n",
    "sections = extract_sections(first_row_text)\n",
    "summarized_sections = [summarize_section(header, content) for header, content in sections.items()]\n",
    "\n",
    "# Combine all summaries into a single string\n",
    "full_summary = ' '.join(summarized_sections)\n",
    "\n",
    "# Print the full summary\n",
    "print(full_summary)"
   ]
  }
 ],
 "metadata": {
  "kernelspec": {
   "display_name": "Python 3.8 (myenv)",
   "language": "python",
   "name": "myenv"
  },
  "language_info": {
   "codemirror_mode": {
    "name": "ipython",
    "version": 3
   },
   "file_extension": ".py",
   "mimetype": "text/x-python",
   "name": "python",
   "nbconvert_exporter": "python",
   "pygments_lexer": "ipython3",
   "version": "3.8.18"
  }
 },
 "nbformat": 4,
 "nbformat_minor": 2
}
