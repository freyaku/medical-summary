{
 "cells": [
  {
   "cell_type": "markdown",
   "metadata": {},
   "source": [
    "# Viewing Dataset File\n",
    "\n",
    "---\n",
    "\n",
    "## Intentions\n",
    "\n",
    "- to be able to extract a predetermined subset of the overall dataset\n",
    "allowing a brief overview and analysis.\n",
    "- After extracting we now want to analyse using Spacy or Hugging Face Transformations (HFT)."
   ]
  },
  {
   "cell_type": "code",
   "execution_count": 1,
   "metadata": {},
   "outputs": [],
   "source": [
    "# imports\n",
    "import numpy as np \n",
    "import pandas as pd \n",
    "import matplotlib.pyplot as plt"
   ]
  },
  {
   "cell_type": "code",
   "execution_count": 2,
   "metadata": {},
   "outputs": [],
   "source": [
    "# read all the csv files and store them respectively\n",
    "\n",
    "# create function to limit rows read\n",
    "def read_first_n_rows(data, n):\n",
    "    df = pd.read_csv(data, nrows=n)\n",
    "    return df\n",
    "\n",
    "rows = 1000\n",
    "discharge_detail_data = read_first_n_rows(\"discharge_detail.csv\", rows)"
   ]
  },
  {
   "cell_type": "code",
   "execution_count": 3,
   "metadata": {},
   "outputs": [
    {
     "data": {
      "text/html": [
       "<div>\n",
       "<style scoped>\n",
       "    .dataframe tbody tr th:only-of-type {\n",
       "        vertical-align: middle;\n",
       "    }\n",
       "\n",
       "    .dataframe tbody tr th {\n",
       "        vertical-align: top;\n",
       "    }\n",
       "\n",
       "    .dataframe thead th {\n",
       "        text-align: right;\n",
       "    }\n",
       "</style>\n",
       "<table border=\"1\" class=\"dataframe\">\n",
       "  <thead>\n",
       "    <tr style=\"text-align: right;\">\n",
       "      <th></th>\n",
       "      <th>note_id</th>\n",
       "      <th>subject_id</th>\n",
       "      <th>field_name</th>\n",
       "      <th>field_value</th>\n",
       "      <th>field_ordinal</th>\n",
       "    </tr>\n",
       "  </thead>\n",
       "  <tbody>\n",
       "    <tr>\n",
       "      <th>0</th>\n",
       "      <td>10000032-DS-21</td>\n",
       "      <td>10000032</td>\n",
       "      <td>author</td>\n",
       "      <td>___</td>\n",
       "      <td>1</td>\n",
       "    </tr>\n",
       "    <tr>\n",
       "      <th>1</th>\n",
       "      <td>10000032-DS-22</td>\n",
       "      <td>10000032</td>\n",
       "      <td>author</td>\n",
       "      <td>___</td>\n",
       "      <td>1</td>\n",
       "    </tr>\n",
       "    <tr>\n",
       "      <th>2</th>\n",
       "      <td>10000032-DS-23</td>\n",
       "      <td>10000032</td>\n",
       "      <td>author</td>\n",
       "      <td>___</td>\n",
       "      <td>1</td>\n",
       "    </tr>\n",
       "    <tr>\n",
       "      <th>3</th>\n",
       "      <td>10000032-DS-24</td>\n",
       "      <td>10000032</td>\n",
       "      <td>author</td>\n",
       "      <td>___</td>\n",
       "      <td>1</td>\n",
       "    </tr>\n",
       "    <tr>\n",
       "      <th>4</th>\n",
       "      <td>10000084-DS-17</td>\n",
       "      <td>10000084</td>\n",
       "      <td>author</td>\n",
       "      <td>___</td>\n",
       "      <td>1</td>\n",
       "    </tr>\n",
       "  </tbody>\n",
       "</table>\n",
       "</div>"
      ],
      "text/plain": [
       "          note_id  subject_id field_name field_value  field_ordinal\n",
       "0  10000032-DS-21    10000032     author         ___              1\n",
       "1  10000032-DS-22    10000032     author         ___              1\n",
       "2  10000032-DS-23    10000032     author         ___              1\n",
       "3  10000032-DS-24    10000032     author         ___              1\n",
       "4  10000084-DS-17    10000084     author         ___              1"
      ]
     },
     "execution_count": 3,
     "metadata": {},
     "output_type": "execute_result"
    }
   ],
   "source": [
    "discharge_detail_data.head()"
   ]
  },
  {
   "cell_type": "code",
   "execution_count": 4,
   "metadata": {},
   "outputs": [],
   "source": [
    "# read in discharge.csv \n",
    "discharge_data = read_first_n_rows(\"discharge.csv\", rows)\n"
   ]
  },
  {
   "cell_type": "code",
   "execution_count": 5,
   "metadata": {},
   "outputs": [
    {
     "data": {
      "text/html": [
       "<div>\n",
       "<style scoped>\n",
       "    .dataframe tbody tr th:only-of-type {\n",
       "        vertical-align: middle;\n",
       "    }\n",
       "\n",
       "    .dataframe tbody tr th {\n",
       "        vertical-align: top;\n",
       "    }\n",
       "\n",
       "    .dataframe thead th {\n",
       "        text-align: right;\n",
       "    }\n",
       "</style>\n",
       "<table border=\"1\" class=\"dataframe\">\n",
       "  <thead>\n",
       "    <tr style=\"text-align: right;\">\n",
       "      <th></th>\n",
       "      <th>note_id</th>\n",
       "      <th>subject_id</th>\n",
       "      <th>hadm_id</th>\n",
       "      <th>note_type</th>\n",
       "      <th>note_seq</th>\n",
       "      <th>charttime</th>\n",
       "      <th>storetime</th>\n",
       "      <th>text</th>\n",
       "    </tr>\n",
       "  </thead>\n",
       "  <tbody>\n",
       "    <tr>\n",
       "      <th>0</th>\n",
       "      <td>10000032-DS-21</td>\n",
       "      <td>10000032</td>\n",
       "      <td>22595853</td>\n",
       "      <td>DS</td>\n",
       "      <td>21</td>\n",
       "      <td>2180-05-07 00:00:00</td>\n",
       "      <td>2180-05-09 15:26:00</td>\n",
       "      <td>\\nName:  ___                     Unit No:   _...</td>\n",
       "    </tr>\n",
       "    <tr>\n",
       "      <th>1</th>\n",
       "      <td>10000032-DS-22</td>\n",
       "      <td>10000032</td>\n",
       "      <td>22841357</td>\n",
       "      <td>DS</td>\n",
       "      <td>22</td>\n",
       "      <td>2180-06-27 00:00:00</td>\n",
       "      <td>2180-07-01 10:15:00</td>\n",
       "      <td>\\nName:  ___                     Unit No:   _...</td>\n",
       "    </tr>\n",
       "    <tr>\n",
       "      <th>2</th>\n",
       "      <td>10000032-DS-23</td>\n",
       "      <td>10000032</td>\n",
       "      <td>29079034</td>\n",
       "      <td>DS</td>\n",
       "      <td>23</td>\n",
       "      <td>2180-07-25 00:00:00</td>\n",
       "      <td>2180-07-25 21:42:00</td>\n",
       "      <td>\\nName:  ___                     Unit No:   _...</td>\n",
       "    </tr>\n",
       "    <tr>\n",
       "      <th>3</th>\n",
       "      <td>10000032-DS-24</td>\n",
       "      <td>10000032</td>\n",
       "      <td>25742920</td>\n",
       "      <td>DS</td>\n",
       "      <td>24</td>\n",
       "      <td>2180-08-07 00:00:00</td>\n",
       "      <td>2180-08-10 05:43:00</td>\n",
       "      <td>\\nName:  ___                     Unit No:   _...</td>\n",
       "    </tr>\n",
       "    <tr>\n",
       "      <th>4</th>\n",
       "      <td>10000084-DS-17</td>\n",
       "      <td>10000084</td>\n",
       "      <td>23052089</td>\n",
       "      <td>DS</td>\n",
       "      <td>17</td>\n",
       "      <td>2160-11-25 00:00:00</td>\n",
       "      <td>2160-11-25 15:09:00</td>\n",
       "      <td>\\nName:  ___                    Unit No:   __...</td>\n",
       "    </tr>\n",
       "  </tbody>\n",
       "</table>\n",
       "</div>"
      ],
      "text/plain": [
       "          note_id  subject_id   hadm_id note_type  note_seq  \\\n",
       "0  10000032-DS-21    10000032  22595853        DS        21   \n",
       "1  10000032-DS-22    10000032  22841357        DS        22   \n",
       "2  10000032-DS-23    10000032  29079034        DS        23   \n",
       "3  10000032-DS-24    10000032  25742920        DS        24   \n",
       "4  10000084-DS-17    10000084  23052089        DS        17   \n",
       "\n",
       "             charttime            storetime  \\\n",
       "0  2180-05-07 00:00:00  2180-05-09 15:26:00   \n",
       "1  2180-06-27 00:00:00  2180-07-01 10:15:00   \n",
       "2  2180-07-25 00:00:00  2180-07-25 21:42:00   \n",
       "3  2180-08-07 00:00:00  2180-08-10 05:43:00   \n",
       "4  2160-11-25 00:00:00  2160-11-25 15:09:00   \n",
       "\n",
       "                                                text  \n",
       "0   \\nName:  ___                     Unit No:   _...  \n",
       "1   \\nName:  ___                     Unit No:   _...  \n",
       "2   \\nName:  ___                     Unit No:   _...  \n",
       "3   \\nName:  ___                     Unit No:   _...  \n",
       "4   \\nName:  ___                    Unit No:   __...  "
      ]
     },
     "execution_count": 5,
     "metadata": {},
     "output_type": "execute_result"
    }
   ],
   "source": [
    "discharge_data.head()"
   ]
  },
  {
   "cell_type": "code",
   "execution_count": 6,
   "metadata": {},
   "outputs": [
    {
     "data": {
      "text/plain": [
       "['note_id',\n",
       " 'subject_id',\n",
       " 'hadm_id',\n",
       " 'note_type',\n",
       " 'note_seq',\n",
       " 'charttime',\n",
       " 'storetime',\n",
       " 'text']"
      ]
     },
     "execution_count": 6,
     "metadata": {},
     "output_type": "execute_result"
    }
   ],
   "source": [
    "# retrieve the column names\n",
    "discharge_data_column_names = []\n",
    "for column in discharge_data.columns:\n",
    "    discharge_data_column_names.append(column)\n",
    "discharge_data_column_names"
   ]
  },
  {
   "cell_type": "code",
   "execution_count": 7,
   "metadata": {},
   "outputs": [
    {
     "data": {
      "text/html": [
       "<div>\n",
       "<style scoped>\n",
       "    .dataframe tbody tr th:only-of-type {\n",
       "        vertical-align: middle;\n",
       "    }\n",
       "\n",
       "    .dataframe tbody tr th {\n",
       "        vertical-align: top;\n",
       "    }\n",
       "\n",
       "    .dataframe thead th {\n",
       "        text-align: right;\n",
       "    }\n",
       "</style>\n",
       "<table border=\"1\" class=\"dataframe\">\n",
       "  <thead>\n",
       "    <tr style=\"text-align: right;\">\n",
       "      <th></th>\n",
       "      <th>note_id</th>\n",
       "      <th>subject_id</th>\n",
       "      <th>field_name</th>\n",
       "      <th>field_value</th>\n",
       "      <th>field_ordinal</th>\n",
       "    </tr>\n",
       "  </thead>\n",
       "  <tbody>\n",
       "    <tr>\n",
       "      <th>0</th>\n",
       "      <td>10000032-RR-14</td>\n",
       "      <td>10000032</td>\n",
       "      <td>exam_code</td>\n",
       "      <td>C11</td>\n",
       "      <td>1</td>\n",
       "    </tr>\n",
       "    <tr>\n",
       "      <th>1</th>\n",
       "      <td>10000032-RR-14</td>\n",
       "      <td>10000032</td>\n",
       "      <td>exam_name</td>\n",
       "      <td>CHEST (PA &amp; LAT)</td>\n",
       "      <td>1</td>\n",
       "    </tr>\n",
       "    <tr>\n",
       "      <th>2</th>\n",
       "      <td>10000032-RR-15</td>\n",
       "      <td>10000032</td>\n",
       "      <td>exam_code</td>\n",
       "      <td>U314</td>\n",
       "      <td>1</td>\n",
       "    </tr>\n",
       "    <tr>\n",
       "      <th>3</th>\n",
       "      <td>10000032-RR-15</td>\n",
       "      <td>10000032</td>\n",
       "      <td>exam_code</td>\n",
       "      <td>U644</td>\n",
       "      <td>3</td>\n",
       "    </tr>\n",
       "    <tr>\n",
       "      <th>4</th>\n",
       "      <td>10000032-RR-15</td>\n",
       "      <td>10000032</td>\n",
       "      <td>exam_code</td>\n",
       "      <td>W82</td>\n",
       "      <td>2</td>\n",
       "    </tr>\n",
       "  </tbody>\n",
       "</table>\n",
       "</div>"
      ],
      "text/plain": [
       "          note_id  subject_id field_name       field_value  field_ordinal\n",
       "0  10000032-RR-14    10000032  exam_code               C11              1\n",
       "1  10000032-RR-14    10000032  exam_name  CHEST (PA & LAT)              1\n",
       "2  10000032-RR-15    10000032  exam_code              U314              1\n",
       "3  10000032-RR-15    10000032  exam_code              U644              3\n",
       "4  10000032-RR-15    10000032  exam_code               W82              2"
      ]
     },
     "execution_count": 7,
     "metadata": {},
     "output_type": "execute_result"
    }
   ],
   "source": [
    "radiology_detail_data = read_first_n_rows(\"radiology_detail.csv\", rows)\n",
    "radiology_detail_data.head()"
   ]
  },
  {
   "cell_type": "code",
   "execution_count": 8,
   "metadata": {},
   "outputs": [
    {
     "data": {
      "text/html": [
       "<div>\n",
       "<style scoped>\n",
       "    .dataframe tbody tr th:only-of-type {\n",
       "        vertical-align: middle;\n",
       "    }\n",
       "\n",
       "    .dataframe tbody tr th {\n",
       "        vertical-align: top;\n",
       "    }\n",
       "\n",
       "    .dataframe thead th {\n",
       "        text-align: right;\n",
       "    }\n",
       "</style>\n",
       "<table border=\"1\" class=\"dataframe\">\n",
       "  <thead>\n",
       "    <tr style=\"text-align: right;\">\n",
       "      <th></th>\n",
       "      <th>note_id</th>\n",
       "      <th>subject_id</th>\n",
       "      <th>hadm_id</th>\n",
       "      <th>note_type</th>\n",
       "      <th>note_seq</th>\n",
       "      <th>charttime</th>\n",
       "      <th>storetime</th>\n",
       "      <th>text</th>\n",
       "    </tr>\n",
       "  </thead>\n",
       "  <tbody>\n",
       "    <tr>\n",
       "      <th>0</th>\n",
       "      <td>10000032-RR-14</td>\n",
       "      <td>10000032</td>\n",
       "      <td>22595853.0</td>\n",
       "      <td>RR</td>\n",
       "      <td>14</td>\n",
       "      <td>2180-05-06 21:19:00</td>\n",
       "      <td>2180-05-06 23:32:00</td>\n",
       "      <td>EXAMINATION:  CHEST (PA AND LAT)\\n\\nINDICATION...</td>\n",
       "    </tr>\n",
       "    <tr>\n",
       "      <th>1</th>\n",
       "      <td>10000032-RR-15</td>\n",
       "      <td>10000032</td>\n",
       "      <td>22595853.0</td>\n",
       "      <td>RR</td>\n",
       "      <td>15</td>\n",
       "      <td>2180-05-06 23:00:00</td>\n",
       "      <td>2180-05-06 23:26:00</td>\n",
       "      <td>EXAMINATION:  LIVER OR GALLBLADDER US (SINGLE ...</td>\n",
       "    </tr>\n",
       "    <tr>\n",
       "      <th>2</th>\n",
       "      <td>10000032-RR-16</td>\n",
       "      <td>10000032</td>\n",
       "      <td>22595853.0</td>\n",
       "      <td>RR</td>\n",
       "      <td>16</td>\n",
       "      <td>2180-05-07 09:55:00</td>\n",
       "      <td>2180-05-07 11:15:00</td>\n",
       "      <td>INDICATION:  ___ HCV cirrhosis c/b ascites, hi...</td>\n",
       "    </tr>\n",
       "    <tr>\n",
       "      <th>3</th>\n",
       "      <td>10000032-RR-18</td>\n",
       "      <td>10000032</td>\n",
       "      <td>NaN</td>\n",
       "      <td>RR</td>\n",
       "      <td>18</td>\n",
       "      <td>2180-06-03 12:46:00</td>\n",
       "      <td>2180-06-03 14:01:00</td>\n",
       "      <td>EXAMINATION:  Ultrasound-guided paracentesis.\\...</td>\n",
       "    </tr>\n",
       "    <tr>\n",
       "      <th>4</th>\n",
       "      <td>10000032-RR-20</td>\n",
       "      <td>10000032</td>\n",
       "      <td>NaN</td>\n",
       "      <td>RR</td>\n",
       "      <td>20</td>\n",
       "      <td>2180-07-08 13:18:00</td>\n",
       "      <td>2180-07-08 14:15:00</td>\n",
       "      <td>EXAMINATION:  Paracentesis\\n\\nINDICATION:  ___...</td>\n",
       "    </tr>\n",
       "  </tbody>\n",
       "</table>\n",
       "</div>"
      ],
      "text/plain": [
       "          note_id  subject_id     hadm_id note_type  note_seq  \\\n",
       "0  10000032-RR-14    10000032  22595853.0        RR        14   \n",
       "1  10000032-RR-15    10000032  22595853.0        RR        15   \n",
       "2  10000032-RR-16    10000032  22595853.0        RR        16   \n",
       "3  10000032-RR-18    10000032         NaN        RR        18   \n",
       "4  10000032-RR-20    10000032         NaN        RR        20   \n",
       "\n",
       "             charttime            storetime  \\\n",
       "0  2180-05-06 21:19:00  2180-05-06 23:32:00   \n",
       "1  2180-05-06 23:00:00  2180-05-06 23:26:00   \n",
       "2  2180-05-07 09:55:00  2180-05-07 11:15:00   \n",
       "3  2180-06-03 12:46:00  2180-06-03 14:01:00   \n",
       "4  2180-07-08 13:18:00  2180-07-08 14:15:00   \n",
       "\n",
       "                                                text  \n",
       "0  EXAMINATION:  CHEST (PA AND LAT)\\n\\nINDICATION...  \n",
       "1  EXAMINATION:  LIVER OR GALLBLADDER US (SINGLE ...  \n",
       "2  INDICATION:  ___ HCV cirrhosis c/b ascites, hi...  \n",
       "3  EXAMINATION:  Ultrasound-guided paracentesis.\\...  \n",
       "4  EXAMINATION:  Paracentesis\\n\\nINDICATION:  ___...  "
      ]
     },
     "execution_count": 8,
     "metadata": {},
     "output_type": "execute_result"
    }
   ],
   "source": [
    "radiology_data = read_first_n_rows(\"radiology.csv\", rows)\n",
    "radiology_data.head()"
   ]
  },
  {
   "cell_type": "markdown",
   "metadata": {},
   "source": [
    "# Next Step - HFT Text Summarisation\n",
    "\n",
    "---\n",
    "\n",
    "The next step in the process is to be able to evaluate if the HFT library will be able to summarise the text\n",
    "to a desired level. \n",
    "\n",
    "## Install the HFT Library\n",
    "\n",
    "### Installing Transformers and Importing Dependencies\n"
   ]
  },
  {
   "cell_type": "code",
   "execution_count": 9,
   "metadata": {},
   "outputs": [
    {
     "name": "stdout",
     "output_type": "stream",
     "text": [
      "Requirement already satisfied: transformers in /Users/alex/anaconda3/lib/python3.11/site-packages (4.32.1)\n",
      "Requirement already satisfied: filelock in /Users/alex/anaconda3/lib/python3.11/site-packages (from transformers) (3.9.0)\n",
      "Requirement already satisfied: huggingface-hub<1.0,>=0.15.1 in /Users/alex/anaconda3/lib/python3.11/site-packages (from transformers) (0.15.1)\n",
      "Requirement already satisfied: numpy>=1.17 in /Users/alex/anaconda3/lib/python3.11/site-packages (from transformers) (1.24.3)\n",
      "Requirement already satisfied: packaging>=20.0 in /Users/alex/anaconda3/lib/python3.11/site-packages (from transformers) (23.1)\n",
      "Requirement already satisfied: pyyaml>=5.1 in /Users/alex/anaconda3/lib/python3.11/site-packages (from transformers) (6.0)\n",
      "Requirement already satisfied: regex!=2019.12.17 in /Users/alex/anaconda3/lib/python3.11/site-packages (from transformers) (2022.7.9)\n",
      "Requirement already satisfied: requests in /Users/alex/anaconda3/lib/python3.11/site-packages (from transformers) (2.31.0)\n",
      "Requirement already satisfied: tokenizers!=0.11.3,<0.14,>=0.11.1 in /Users/alex/anaconda3/lib/python3.11/site-packages (from transformers) (0.13.2)\n",
      "Requirement already satisfied: safetensors>=0.3.1 in /Users/alex/anaconda3/lib/python3.11/site-packages (from transformers) (0.3.2)\n",
      "Requirement already satisfied: tqdm>=4.27 in /Users/alex/anaconda3/lib/python3.11/site-packages (from transformers) (4.65.0)\n",
      "Requirement already satisfied: fsspec in /Users/alex/anaconda3/lib/python3.11/site-packages (from huggingface-hub<1.0,>=0.15.1->transformers) (2023.4.0)\n",
      "Requirement already satisfied: typing-extensions>=3.7.4.3 in /Users/alex/anaconda3/lib/python3.11/site-packages (from huggingface-hub<1.0,>=0.15.1->transformers) (4.7.1)\n",
      "Requirement already satisfied: charset-normalizer<4,>=2 in /Users/alex/anaconda3/lib/python3.11/site-packages (from requests->transformers) (2.0.4)\n",
      "Requirement already satisfied: idna<4,>=2.5 in /Users/alex/anaconda3/lib/python3.11/site-packages (from requests->transformers) (3.4)\n",
      "Requirement already satisfied: urllib3<3,>=1.21.1 in /Users/alex/anaconda3/lib/python3.11/site-packages (from requests->transformers) (1.26.16)\n",
      "Requirement already satisfied: certifi>=2017.4.17 in /Users/alex/anaconda3/lib/python3.11/site-packages (from requests->transformers) (2023.7.22)\n",
      "Note: you may need to restart the kernel to use updated packages.\n",
      "Requirement already satisfied: tensorflow in /Users/alex/anaconda3/lib/python3.11/site-packages (2.15.0)\n",
      "Requirement already satisfied: tensorflow-macos==2.15.0 in /Users/alex/anaconda3/lib/python3.11/site-packages (from tensorflow) (2.15.0)\n",
      "Requirement already satisfied: absl-py>=1.0.0 in /Users/alex/anaconda3/lib/python3.11/site-packages (from tensorflow-macos==2.15.0->tensorflow) (2.1.0)\n",
      "Requirement already satisfied: astunparse>=1.6.0 in /Users/alex/anaconda3/lib/python3.11/site-packages (from tensorflow-macos==2.15.0->tensorflow) (1.6.3)\n",
      "Requirement already satisfied: flatbuffers>=23.5.26 in /Users/alex/anaconda3/lib/python3.11/site-packages (from tensorflow-macos==2.15.0->tensorflow) (24.3.6)\n",
      "Requirement already satisfied: gast!=0.5.0,!=0.5.1,!=0.5.2,>=0.2.1 in /Users/alex/anaconda3/lib/python3.11/site-packages (from tensorflow-macos==2.15.0->tensorflow) (0.5.4)\n",
      "Requirement already satisfied: google-pasta>=0.1.1 in /Users/alex/anaconda3/lib/python3.11/site-packages (from tensorflow-macos==2.15.0->tensorflow) (0.2.0)\n",
      "Requirement already satisfied: h5py>=2.9.0 in /Users/alex/anaconda3/lib/python3.11/site-packages (from tensorflow-macos==2.15.0->tensorflow) (3.9.0)\n",
      "Requirement already satisfied: libclang>=13.0.0 in /Users/alex/anaconda3/lib/python3.11/site-packages (from tensorflow-macos==2.15.0->tensorflow) (16.0.6)\n",
      "Requirement already satisfied: ml-dtypes~=0.2.0 in /Users/alex/anaconda3/lib/python3.11/site-packages (from tensorflow-macos==2.15.0->tensorflow) (0.2.0)\n",
      "Requirement already satisfied: numpy<2.0.0,>=1.23.5 in /Users/alex/anaconda3/lib/python3.11/site-packages (from tensorflow-macos==2.15.0->tensorflow) (1.24.3)\n",
      "Requirement already satisfied: opt-einsum>=2.3.2 in /Users/alex/anaconda3/lib/python3.11/site-packages (from tensorflow-macos==2.15.0->tensorflow) (3.3.0)\n",
      "Requirement already satisfied: packaging in /Users/alex/anaconda3/lib/python3.11/site-packages (from tensorflow-macos==2.15.0->tensorflow) (23.1)\n",
      "Requirement already satisfied: protobuf!=4.21.0,!=4.21.1,!=4.21.2,!=4.21.3,!=4.21.4,!=4.21.5,<5.0.0dev,>=3.20.3 in /Users/alex/anaconda3/lib/python3.11/site-packages (from tensorflow-macos==2.15.0->tensorflow) (4.25.3)\n",
      "Requirement already satisfied: setuptools in /Users/alex/anaconda3/lib/python3.11/site-packages (from tensorflow-macos==2.15.0->tensorflow) (68.0.0)\n",
      "Requirement already satisfied: six>=1.12.0 in /Users/alex/anaconda3/lib/python3.11/site-packages (from tensorflow-macos==2.15.0->tensorflow) (1.16.0)\n",
      "Requirement already satisfied: termcolor>=1.1.0 in /Users/alex/anaconda3/lib/python3.11/site-packages (from tensorflow-macos==2.15.0->tensorflow) (2.4.0)\n",
      "Requirement already satisfied: typing-extensions>=3.6.6 in /Users/alex/anaconda3/lib/python3.11/site-packages (from tensorflow-macos==2.15.0->tensorflow) (4.7.1)\n",
      "Requirement already satisfied: wrapt<1.15,>=1.11.0 in /Users/alex/anaconda3/lib/python3.11/site-packages (from tensorflow-macos==2.15.0->tensorflow) (1.14.1)\n",
      "Requirement already satisfied: tensorflow-io-gcs-filesystem>=0.23.1 in /Users/alex/anaconda3/lib/python3.11/site-packages (from tensorflow-macos==2.15.0->tensorflow) (0.36.0)\n",
      "Requirement already satisfied: grpcio<2.0,>=1.24.3 in /Users/alex/anaconda3/lib/python3.11/site-packages (from tensorflow-macos==2.15.0->tensorflow) (1.62.0)\n",
      "Requirement already satisfied: tensorboard<2.16,>=2.15 in /Users/alex/anaconda3/lib/python3.11/site-packages (from tensorflow-macos==2.15.0->tensorflow) (2.15.2)\n",
      "Requirement already satisfied: tensorflow-estimator<2.16,>=2.15.0 in /Users/alex/anaconda3/lib/python3.11/site-packages (from tensorflow-macos==2.15.0->tensorflow) (2.15.0)\n",
      "Requirement already satisfied: keras<2.16,>=2.15.0 in /Users/alex/anaconda3/lib/python3.11/site-packages (from tensorflow-macos==2.15.0->tensorflow) (2.15.0)\n",
      "Requirement already satisfied: wheel<1.0,>=0.23.0 in /Users/alex/anaconda3/lib/python3.11/site-packages (from astunparse>=1.6.0->tensorflow-macos==2.15.0->tensorflow) (0.38.4)\n",
      "Requirement already satisfied: google-auth<3,>=1.6.3 in /Users/alex/anaconda3/lib/python3.11/site-packages (from tensorboard<2.16,>=2.15->tensorflow-macos==2.15.0->tensorflow) (2.28.1)\n",
      "Requirement already satisfied: google-auth-oauthlib<2,>=0.5 in /Users/alex/anaconda3/lib/python3.11/site-packages (from tensorboard<2.16,>=2.15->tensorflow-macos==2.15.0->tensorflow) (1.2.0)\n",
      "Requirement already satisfied: markdown>=2.6.8 in /Users/alex/anaconda3/lib/python3.11/site-packages (from tensorboard<2.16,>=2.15->tensorflow-macos==2.15.0->tensorflow) (3.4.1)\n",
      "Requirement already satisfied: requests<3,>=2.21.0 in /Users/alex/anaconda3/lib/python3.11/site-packages (from tensorboard<2.16,>=2.15->tensorflow-macos==2.15.0->tensorflow) (2.31.0)\n",
      "Requirement already satisfied: tensorboard-data-server<0.8.0,>=0.7.0 in /Users/alex/anaconda3/lib/python3.11/site-packages (from tensorboard<2.16,>=2.15->tensorflow-macos==2.15.0->tensorflow) (0.7.2)\n",
      "Requirement already satisfied: werkzeug>=1.0.1 in /Users/alex/anaconda3/lib/python3.11/site-packages (from tensorboard<2.16,>=2.15->tensorflow-macos==2.15.0->tensorflow) (2.2.3)\n",
      "Requirement already satisfied: cachetools<6.0,>=2.0.0 in /Users/alex/anaconda3/lib/python3.11/site-packages (from google-auth<3,>=1.6.3->tensorboard<2.16,>=2.15->tensorflow-macos==2.15.0->tensorflow) (5.3.3)\n",
      "Requirement already satisfied: pyasn1-modules>=0.2.1 in /Users/alex/anaconda3/lib/python3.11/site-packages (from google-auth<3,>=1.6.3->tensorboard<2.16,>=2.15->tensorflow-macos==2.15.0->tensorflow) (0.2.8)\n",
      "Requirement already satisfied: rsa<5,>=3.1.4 in /Users/alex/anaconda3/lib/python3.11/site-packages (from google-auth<3,>=1.6.3->tensorboard<2.16,>=2.15->tensorflow-macos==2.15.0->tensorflow) (4.9)\n",
      "Requirement already satisfied: requests-oauthlib>=0.7.0 in /Users/alex/anaconda3/lib/python3.11/site-packages (from google-auth-oauthlib<2,>=0.5->tensorboard<2.16,>=2.15->tensorflow-macos==2.15.0->tensorflow) (1.3.1)\n",
      "Requirement already satisfied: charset-normalizer<4,>=2 in /Users/alex/anaconda3/lib/python3.11/site-packages (from requests<3,>=2.21.0->tensorboard<2.16,>=2.15->tensorflow-macos==2.15.0->tensorflow) (2.0.4)\n",
      "Requirement already satisfied: idna<4,>=2.5 in /Users/alex/anaconda3/lib/python3.11/site-packages (from requests<3,>=2.21.0->tensorboard<2.16,>=2.15->tensorflow-macos==2.15.0->tensorflow) (3.4)\n",
      "Requirement already satisfied: urllib3<3,>=1.21.1 in /Users/alex/anaconda3/lib/python3.11/site-packages (from requests<3,>=2.21.0->tensorboard<2.16,>=2.15->tensorflow-macos==2.15.0->tensorflow) (1.26.16)\n",
      "Requirement already satisfied: certifi>=2017.4.17 in /Users/alex/anaconda3/lib/python3.11/site-packages (from requests<3,>=2.21.0->tensorboard<2.16,>=2.15->tensorflow-macos==2.15.0->tensorflow) (2023.7.22)\n",
      "Requirement already satisfied: MarkupSafe>=2.1.1 in /Users/alex/anaconda3/lib/python3.11/site-packages (from werkzeug>=1.0.1->tensorboard<2.16,>=2.15->tensorflow-macos==2.15.0->tensorflow) (2.1.1)\n",
      "Requirement already satisfied: pyasn1<0.5.0,>=0.4.6 in /Users/alex/anaconda3/lib/python3.11/site-packages (from pyasn1-modules>=0.2.1->google-auth<3,>=1.6.3->tensorboard<2.16,>=2.15->tensorflow-macos==2.15.0->tensorflow) (0.4.8)\n",
      "Requirement already satisfied: oauthlib>=3.0.0 in /Users/alex/anaconda3/lib/python3.11/site-packages (from requests-oauthlib>=0.7.0->google-auth-oauthlib<2,>=0.5->tensorboard<2.16,>=2.15->tensorflow-macos==2.15.0->tensorflow) (3.2.2)\n",
      "Note: you may need to restart the kernel to use updated packages.\n"
     ]
    }
   ],
   "source": [
    "%pip install transformers\n",
    "%pip install tensorflow"
   ]
  },
  {
   "cell_type": "markdown",
   "metadata": {},
   "source": [
    "### Load Summarisation Pipeline"
   ]
  },
  {
   "cell_type": "code",
   "execution_count": 17,
   "metadata": {},
   "outputs": [
    {
     "name": "stderr",
     "output_type": "stream",
     "text": [
      "No model was supplied, defaulted to t5-small and revision d769bba (https://huggingface.co/t5-small).\n",
      "Using a pipeline without specifying a model name and revision in production is not recommended.\n"
     ]
    },
    {
     "data": {
      "application/vnd.jupyter.widget-view+json": {
       "model_id": "d4bad5d78f37444c9bcd89646cdc1732",
       "version_major": 2,
       "version_minor": 0
      },
      "text/plain": [
       "Downloading config.json:   0%|          | 0.00/1.21k [00:00<?, ?B/s]"
      ]
     },
     "metadata": {},
     "output_type": "display_data"
    },
    {
     "data": {
      "application/vnd.jupyter.widget-view+json": {
       "model_id": "965adbaf1cef44bbb64836174b82c996",
       "version_major": 2,
       "version_minor": 0
      },
      "text/plain": [
       "Downloading model.safetensors:   0%|          | 0.00/242M [00:00<?, ?B/s]"
      ]
     },
     "metadata": {},
     "output_type": "display_data"
    },
    {
     "name": "stderr",
     "output_type": "stream",
     "text": [
      "All PyTorch model weights were used when initializing TFT5ForConditionalGeneration.\n",
      "\n",
      "All the weights of TFT5ForConditionalGeneration were initialized from the PyTorch model.\n",
      "If your task is similar to the task the model of the checkpoint was trained on, you can already use TFT5ForConditionalGeneration for predictions without further training.\n"
     ]
    },
    {
     "data": {
      "application/vnd.jupyter.widget-view+json": {
       "model_id": "9f022dcf3a7a4de8ae97d84c1cbaa710",
       "version_major": 2,
       "version_minor": 0
      },
      "text/plain": [
       "Downloading tokenizer_config.json:   0%|          | 0.00/2.32k [00:00<?, ?B/s]"
      ]
     },
     "metadata": {},
     "output_type": "display_data"
    },
    {
     "data": {
      "application/vnd.jupyter.widget-view+json": {
       "model_id": "d0c0cdf7782a4e5a8a294d477c947030",
       "version_major": 2,
       "version_minor": 0
      },
      "text/plain": [
       "Downloading spiece.model:   0%|          | 0.00/792k [00:00<?, ?B/s]"
      ]
     },
     "metadata": {},
     "output_type": "display_data"
    },
    {
     "data": {
      "application/vnd.jupyter.widget-view+json": {
       "model_id": "4548b045f886495aa3128b1a4f8bda91",
       "version_major": 2,
       "version_minor": 0
      },
      "text/plain": [
       "Downloading tokenizer.json:   0%|          | 0.00/1.39M [00:00<?, ?B/s]"
      ]
     },
     "metadata": {},
     "output_type": "display_data"
    }
   ],
   "source": [
    "from transformers import pipeline\n",
    "\n",
    "summarizer = pipeline(\"summarization\")"
   ]
  },
  {
   "cell_type": "markdown",
   "metadata": {},
   "source": [
    "### Summarise Text\n"
   ]
  },
  {
   "cell_type": "code",
   "execution_count": 20,
   "metadata": {},
   "outputs": [],
   "source": [
    "text = \"\"\"\n",
    "‘Have some shame’: Boxing world reacts to Mike Tyson news\n",
    "Boxing has been stunned by the announcement Mike Tyson will fight one of the biggest names in the sport and not everyone is happy.\n",
    "\n",
    "2 min read\n",
    "March 8, 2024 - 6:51AM\n",
    "4 comments\n",
    "Boxing: Jake Paul took down Ryan Bourland with a first round TKO in their bout in... more\n",
    "Up Next\n",
    "Spying probe finds comms equipment on Chinese cranes at…\n",
    "Cancel\n",
    "More From Boxing\n",
    "Former heavyweight champ’s major call on Aussie young gun\n",
    "Former heavyweight champ’s major call on Aussie young gun\n",
    "Meet the undefeated Aussie who could be our next UFC champion\n",
    "Meet the undefeated Aussie who could be our next UFC champion\n",
    "‘I will take it straight away’: Hall chases Gallen, SBW, rematches\n",
    "‘I will take it straight away’: Hall chases Gallen, SBW, rematches\n",
    "Former heavyweight champion Mike Tyson will return to the ring to face Youtuber-turned-boxer Jake Paul in an exhibition bout screened on Netflix, organisers announced on Friday (AEDT).\n",
    "\n",
    "Tyson, 57, and Paul will face off at the AT&T Stadium in Arlington, Texas, the home of the NFL’s Dallas Cowboys, on July 21, Netflix and Most Valuable Promotions (MVP) announced.\n",
    "\n",
    "Early reports claimed the fight would be free to Netflix subscribers.\n",
    "\n",
    "“Given the names involved, that it’s not on PPV and is on Netflix, which is everywhere globally it may be the most watched boxing event ever,” tweeted boxing reporter Dan Rafael.\n",
    "\n",
    "Mike Tyson and Jake Paul square off. Picture: Netflix\n",
    "Mike Tyson and Jake Paul square off. Picture: Netflix\n",
    "Tyson said in a statement he was looking forward to fighting an opponent who is 30 years his junior, insisting that he had been impressed by Paul’s performances in his fledgling boxing career.\n",
    "\n",
    "“He’s grown significantly as a boxer over the years, so it will be a lot of fun to see what the will and ambition of a ‘kid’ can do with the experience and aptitude of a GOAT,” Tyson said.\n",
    "\n",
    "Paul fought on the undercard of Tyson’s last outing, an eight-round exhibition against former middleweight king Roy Jones Jr. in Los Angeles in 2020.\n",
    "\n",
    "Mike Tyson was in top shape when he last fought against Roy Jones Jr in 2020. (Photo by Joe Scarnici / GETTY)\n",
    "Mike Tyson was in top shape when he last fought against Roy Jones Jr in 2020. (Photo by Joe Scarnici / GETTY)\n",
    "“I started him on his boxing journey on the undercard of my fight with Roy Jones and now I plan to finish him,” Tyson quipped.\n",
    "\n",
    "The fight is the latest in what has become a popular trend in recent years, pitting internet celebrities against each other or against recognised boxers, who have already retired or are well past their prime.\n",
    "\n",
    "Jake Paul’s brother Logan Paul played a key role in pioneering the trend, even fighting against boxing icon Floyd Mayweather in 2021.\n",
    "\n",
    "Jake Paul was far too good for Ryan Bourland during their cruiserweight fight on March 2. (Photo by Al Bello/Getty Images)\n",
    "Jake Paul was far too good for Ryan Bourland during their cruiserweight fight on March 2. (Photo by Al Bello/Getty Images)\n",
    "Jake Paul however has become a bigger draw, building a 9-1 record with six knockouts.\n",
    "\n",
    "He scored back-to-back knockouts against professional boxers in his last two fights with victories over Ryan Bourland and Andre August.\n",
    "\n",
    "Tyson, meanwhile, was regarded as one of the most ferocious heavyweight boxers in history.\n",
    "\n",
    "He reigned as undisputed champion between 1987 and 1990 and won his first belt at the age of 20 years, four months and 22 days to become the youngest heavyweight champion in history.\n",
    "\n",
    "NEWS.COM.AU00:20\n",
    "Mike Tyson's insane power at 53-years-old\n",
    "UP NEXT\n",
    "\n",
    "\n",
    "\n",
    "\n",
    "\n",
    "\n",
    "\n",
    "Mike Tyson lets the world know that he's still got incredible power at the age of 53.\n",
    "“He’s the greatest heavyweight of all time…the most vicious KO artist ever,” Paul tweeted after the bout was announced.\n",
    "\n",
    "“But I’m younger, I’m faster and I’m going to be working my ass off to get stronger. A member of my team sent me this video that Mike’s coach put up two weeks ago and asked me if I’m sure that I want to do this ... yes, yes I do. Heavyweight.”\n",
    "\n",
    "“My sights are set on becoming a world champion, and now I have a chance to prove myself against the greatest heavyweight champion of the world, the baddest man on the planet and the most dangerous boxer of all time. Time to put Iron Mike to sleep,” Paul added.\n",
    "\n",
    "But it wasn’t long before other fighters started criticising the match-up.\n",
    "\n",
    "More Coverage\n",
    "\n",
    "Horner accuser suspended by Red Bull\n",
    "\n",
    "Boxing upset throws Tszyu plan into disarray\n",
    "“You’re fighting someone who was born in 1966,” tweeted Dillon Danis, who fought and lost to Logan Paul. “Have some shame.”\n",
    "\n",
    "“You should be ashamed of yourself,” UFC great Michael Bisping tweeted to Paul. “And the biggest joke is you don’t even slightly realise why.”\n",
    "\"\"\""
   ]
  },
  {
   "cell_type": "code",
   "execution_count": 25,
   "metadata": {},
   "outputs": [
    {
     "data": {
      "text/plain": [
       "[{'summary_text': 'boxing has been stunned by the announcement that Mike Tyson will fight one of the biggest names in the sport . the fight is the latest in what has become a popular trend in recent years, pitting internet celebrities against each other or recognised boxers . he won his first belt at the age of 20 years, four months and 22 days to become the youngest heavyweight champion in history . his brother Logan Paul played a key role in pioneering the trend, even fighting against boxing icon Floyd Mayweather in 2021 . \"......... ... '}]"
      ]
     },
     "execution_count": 25,
     "metadata": {},
     "output_type": "execute_result"
    }
   ],
   "source": [
    "summarizer(text, max_length=400, min_length=120, do_sample=False)"
   ]
  },
  {
   "cell_type": "markdown",
   "metadata": {},
   "source": [
    "# Summarising Patient Medical History ID - 10000032\n",
    "\n",
    "---\n",
    "\n",
    "Using the BART model we will summarise the medical history of patient 10000032\n",
    "\n",
    "Steps:\n",
    "- collect all the medical notes for this specific patient\n",
    "- parse this information into the HFT model\n",
    "- Analyse the output."
   ]
  },
  {
   "cell_type": "code",
   "execution_count": 31,
   "metadata": {},
   "outputs": [
    {
     "data": {
      "text/html": [
       "<div>\n",
       "<style scoped>\n",
       "    .dataframe tbody tr th:only-of-type {\n",
       "        vertical-align: middle;\n",
       "    }\n",
       "\n",
       "    .dataframe tbody tr th {\n",
       "        vertical-align: top;\n",
       "    }\n",
       "\n",
       "    .dataframe thead th {\n",
       "        text-align: right;\n",
       "    }\n",
       "</style>\n",
       "<table border=\"1\" class=\"dataframe\">\n",
       "  <thead>\n",
       "    <tr style=\"text-align: right;\">\n",
       "      <th></th>\n",
       "      <th>subject_id</th>\n",
       "      <th>text</th>\n",
       "    </tr>\n",
       "  </thead>\n",
       "  <tbody>\n",
       "    <tr>\n",
       "      <th>0</th>\n",
       "      <td>10000032</td>\n",
       "      <td>EXAMINATION:  CHEST (PA AND LAT)\\n\\nINDICATION...</td>\n",
       "    </tr>\n",
       "    <tr>\n",
       "      <th>1</th>\n",
       "      <td>10000032</td>\n",
       "      <td>EXAMINATION:  LIVER OR GALLBLADDER US (SINGLE ...</td>\n",
       "    </tr>\n",
       "    <tr>\n",
       "      <th>2</th>\n",
       "      <td>10000032</td>\n",
       "      <td>INDICATION:  ___ HCV cirrhosis c/b ascites, hi...</td>\n",
       "    </tr>\n",
       "    <tr>\n",
       "      <th>3</th>\n",
       "      <td>10000032</td>\n",
       "      <td>EXAMINATION:  Ultrasound-guided paracentesis.\\...</td>\n",
       "    </tr>\n",
       "    <tr>\n",
       "      <th>4</th>\n",
       "      <td>10000032</td>\n",
       "      <td>EXAMINATION:  Paracentesis\\n\\nINDICATION:  ___...</td>\n",
       "    </tr>\n",
       "    <tr>\n",
       "      <th>...</th>\n",
       "      <td>...</td>\n",
       "      <td>...</td>\n",
       "    </tr>\n",
       "    <tr>\n",
       "      <th>995</th>\n",
       "      <td>10003299</td>\n",
       "      <td>EXAM:  MRI brain.  MRA head.  MRA neck.\\n\\nCLI...</td>\n",
       "    </tr>\n",
       "    <tr>\n",
       "      <th>996</th>\n",
       "      <td>10003299</td>\n",
       "      <td>INDICATION:  Evaluation of patient who stepped...</td>\n",
       "    </tr>\n",
       "    <tr>\n",
       "      <th>997</th>\n",
       "      <td>10003299</td>\n",
       "      <td>INDICATION:  Bilateral hard tissue per requisi...</td>\n",
       "    </tr>\n",
       "    <tr>\n",
       "      <th>998</th>\n",
       "      <td>10003299</td>\n",
       "      <td>HISTORY:  Screening.\\n\\nDIGITAL SCREENING MAMM...</td>\n",
       "    </tr>\n",
       "    <tr>\n",
       "      <th>999</th>\n",
       "      <td>10003299</td>\n",
       "      <td>EXAM:  MRI of the brain.\\n\\nCLINICAL INFORMATI...</td>\n",
       "    </tr>\n",
       "  </tbody>\n",
       "</table>\n",
       "<p>1000 rows × 2 columns</p>\n",
       "</div>"
      ],
      "text/plain": [
       "     subject_id                                               text\n",
       "0      10000032  EXAMINATION:  CHEST (PA AND LAT)\\n\\nINDICATION...\n",
       "1      10000032  EXAMINATION:  LIVER OR GALLBLADDER US (SINGLE ...\n",
       "2      10000032  INDICATION:  ___ HCV cirrhosis c/b ascites, hi...\n",
       "3      10000032  EXAMINATION:  Ultrasound-guided paracentesis.\\...\n",
       "4      10000032  EXAMINATION:  Paracentesis\\n\\nINDICATION:  ___...\n",
       "..          ...                                                ...\n",
       "995    10003299  EXAM:  MRI brain.  MRA head.  MRA neck.\\n\\nCLI...\n",
       "996    10003299  INDICATION:  Evaluation of patient who stepped...\n",
       "997    10003299  INDICATION:  Bilateral hard tissue per requisi...\n",
       "998    10003299  HISTORY:  Screening.\\n\\nDIGITAL SCREENING MAMM...\n",
       "999    10003299  EXAM:  MRI of the brain.\\n\\nCLINICAL INFORMATI...\n",
       "\n",
       "[1000 rows x 2 columns]"
      ]
     },
     "execution_count": 31,
     "metadata": {},
     "output_type": "execute_result"
    }
   ],
   "source": [
    "subject_info = []\n",
    "patient_id = 10000032\n",
    "\n",
    "# collect the text from patient 10000032\n",
    "df = radiology_data\n",
    "df = radiology_data.iloc[:,[1, 7]]\n",
    "df"
   ]
  },
  {
   "cell_type": "code",
   "execution_count": 40,
   "metadata": {},
   "outputs": [
    {
     "data": {
      "text/plain": [
       "(1000, 2)"
      ]
     },
     "execution_count": 40,
     "metadata": {},
     "output_type": "execute_result"
    }
   ],
   "source": [
    "df.shape"
   ]
  },
  {
   "cell_type": "code",
   "execution_count": 49,
   "metadata": {},
   "outputs": [
    {
     "data": {
      "text/plain": [
       "0     EXAMINATION:  CHEST (PA AND LAT)\\n\\nINDICATION...\n",
       "1     EXAMINATION:  LIVER OR GALLBLADDER US (SINGLE ...\n",
       "2     INDICATION:  ___ HCV cirrhosis c/b ascites, hi...\n",
       "3     EXAMINATION:  Ultrasound-guided paracentesis.\\...\n",
       "4     EXAMINATION:  Paracentesis\\n\\nINDICATION:  ___...\n",
       "5     EXAMINATION:  ULTRASOUND INTERVENTIONAL PROCED...\n",
       "6     EXAMINATION:  LIVER OR GALLBLADDER US (SINGLE ...\n",
       "7     EXAMINATION:  CHEST (PA AND LAT)\\n\\nINDICATION...\n",
       "8     EXAMINATION:  Ultrasound-guided paracentesis.\\...\n",
       "9     EXAMINATION:  Ultrasound-guided paracentesis.\\...\n",
       "10    EXAMINATION:  ULTRASOUND PARACENTESIS\\n\\nINDIC...\n",
       "11    EXAMINATION:  Ultrasound-guided paracentesis.\\...\n",
       "12    EXAMINATION:  PARACENTESIS\\n\\nINDICATION:  ___...\n",
       "13    EXAMINATION:  THERAPEUTIC PARACENTESIS\\n\\nINDI...\n",
       "14    EXAMINATION:  PARACENTESIS\\n\\nINDICATION:  ___...\n",
       "15    INDICATION:  ___ year old woman with cirrhosis...\n",
       "16    EXAMINATION:  PARACENTESIS\\n\\nINDICATION:  ___...\n",
       "17    EXAMINATION:  CT HEAD W/O CONTRAST\\n\\nINDICATI...\n",
       "18    EXAMINATION:  CHEST (PORTABLE AP)\\n\\nINDICATIO...\n",
       "19    INDICATION:  ___ year old woman with cirrhosis...\n",
       "20    EXAMINATION:  LIVER OR GALLBLADDER US (SINGLE ...\n",
       "21    EXAMINATION:  PARACENTESIS/US-GUIDED\\n\\nINDICA...\n",
       "22    INDICATION:  ___ year old woman with cirrhosis...\n",
       "23    INDICATION:  ___ year old woman with cirrhosis...\n",
       "Name: text, dtype: object"
      ]
     },
     "execution_count": 49,
     "metadata": {},
     "output_type": "execute_result"
    }
   ],
   "source": [
    "patient_info = df.loc[df['subject_id'] == patient_id][\"text\"]\n",
    "patient_info"
   ]
  },
  {
   "cell_type": "code",
   "execution_count": 62,
   "metadata": {},
   "outputs": [
    {
     "data": {
      "text/plain": [
       "[10000032,\n",
       " 10000084,\n",
       " 10000102,\n",
       " 10000108,\n",
       " 10000117,\n",
       " 10000248,\n",
       " 10000285,\n",
       " 10000473,\n",
       " 10000560,\n",
       " 10000594,\n",
       " 10000635,\n",
       " 10000650,\n",
       " 10000719,\n",
       " 10000764,\n",
       " 10000826,\n",
       " 10000891,\n",
       " 10000898,\n",
       " 10000904,\n",
       " 10000935,\n",
       " 10000951,\n",
       " 10000980,\n",
       " 10001016,\n",
       " 10001038,\n",
       " 10001122,\n",
       " 10001176,\n",
       " 10001186,\n",
       " 10001217,\n",
       " 10001319,\n",
       " 10001336,\n",
       " 10001338,\n",
       " 10001401,\n",
       " 10001492,\n",
       " 10001523,\n",
       " 10001574,\n",
       " 10001663,\n",
       " 10001667,\n",
       " 10001725,\n",
       " 10001823,\n",
       " 10001851,\n",
       " 10001860,\n",
       " 10001877,\n",
       " 10001884,\n",
       " 10001919,\n",
       " 10002012,\n",
       " 10002013,\n",
       " 10002131,\n",
       " 10002147,\n",
       " 10002155,\n",
       " 10002157,\n",
       " 10002167,\n",
       " 10002177,\n",
       " 10002221,\n",
       " 10002348,\n",
       " 10002428,\n",
       " 10002430,\n",
       " 10002443,\n",
       " 10002495,\n",
       " 10002523,\n",
       " 10002528,\n",
       " 10002545,\n",
       " 10002557,\n",
       " 10002559,\n",
       " 10002661,\n",
       " 10002662,\n",
       " 10002751,\n",
       " 10002755,\n",
       " 10002760,\n",
       " 10002769,\n",
       " 10002800,\n",
       " 10002804,\n",
       " 10002807,\n",
       " 10002852,\n",
       " 10002859,\n",
       " 10002869,\n",
       " 10002870,\n",
       " 10002920,\n",
       " 10002930,\n",
       " 10002976,\n",
       " 10003019,\n",
       " 10003046,\n",
       " 10003052,\n",
       " 10003137,\n",
       " 10003199,\n",
       " 10003203,\n",
       " 10003255,\n",
       " 10003299]"
      ]
     },
     "execution_count": 62,
     "metadata": {},
     "output_type": "execute_result"
    }
   ],
   "source": [
    "subject_ids = set()\n",
    "for row in range(len(df)):\n",
    "    if df.iloc[row][0] not in subject_ids:\n",
    "        subject_ids.add(df.iloc[row][0])\n",
    "\n",
    "subject_ids = list(sorted(subject_ids))\n",
    "subject_ids"
   ]
  },
  {
   "cell_type": "code",
   "execution_count": 63,
   "metadata": {},
   "outputs": [
    {
     "data": {
      "text/plain": [
       "86"
      ]
     },
     "execution_count": 63,
     "metadata": {},
     "output_type": "execute_result"
    }
   ],
   "source": [
    "m = len(subject_ids)\n",
    "m"
   ]
  },
  {
   "cell_type": "code",
   "execution_count": 64,
   "metadata": {},
   "outputs": [
    {
     "data": {
      "text/plain": [
       "{10000032: '',\n",
       " 10000084: '',\n",
       " 10000102: '',\n",
       " 10000108: '',\n",
       " 10000117: '',\n",
       " 10000248: '',\n",
       " 10000285: '',\n",
       " 10000473: '',\n",
       " 10000560: '',\n",
       " 10000594: '',\n",
       " 10000635: '',\n",
       " 10000650: '',\n",
       " 10000719: '',\n",
       " 10000764: '',\n",
       " 10000826: '',\n",
       " 10000891: '',\n",
       " 10000898: '',\n",
       " 10000904: '',\n",
       " 10000935: '',\n",
       " 10000951: '',\n",
       " 10000980: '',\n",
       " 10001016: '',\n",
       " 10001038: '',\n",
       " 10001122: '',\n",
       " 10001176: '',\n",
       " 10001186: '',\n",
       " 10001217: '',\n",
       " 10001319: '',\n",
       " 10001336: '',\n",
       " 10001338: '',\n",
       " 10001401: '',\n",
       " 10001492: '',\n",
       " 10001523: '',\n",
       " 10001574: '',\n",
       " 10001663: '',\n",
       " 10001667: '',\n",
       " 10001725: '',\n",
       " 10001823: '',\n",
       " 10001851: '',\n",
       " 10001860: '',\n",
       " 10001877: '',\n",
       " 10001884: '',\n",
       " 10001919: '',\n",
       " 10002012: '',\n",
       " 10002013: '',\n",
       " 10002131: '',\n",
       " 10002147: '',\n",
       " 10002155: '',\n",
       " 10002157: '',\n",
       " 10002167: '',\n",
       " 10002177: '',\n",
       " 10002221: '',\n",
       " 10002348: '',\n",
       " 10002428: '',\n",
       " 10002430: '',\n",
       " 10002443: '',\n",
       " 10002495: '',\n",
       " 10002523: '',\n",
       " 10002528: '',\n",
       " 10002545: '',\n",
       " 10002557: '',\n",
       " 10002559: '',\n",
       " 10002661: '',\n",
       " 10002662: '',\n",
       " 10002751: '',\n",
       " 10002755: '',\n",
       " 10002760: '',\n",
       " 10002769: '',\n",
       " 10002800: '',\n",
       " 10002804: '',\n",
       " 10002807: '',\n",
       " 10002852: '',\n",
       " 10002859: '',\n",
       " 10002869: '',\n",
       " 10002870: '',\n",
       " 10002920: '',\n",
       " 10002930: '',\n",
       " 10002976: '',\n",
       " 10003019: '',\n",
       " 10003046: '',\n",
       " 10003052: '',\n",
       " 10003137: '',\n",
       " 10003199: '',\n",
       " 10003203: '',\n",
       " 10003255: '',\n",
       " 10003299: ''}"
      ]
     },
     "execution_count": 64,
     "metadata": {},
     "output_type": "execute_result"
    }
   ],
   "source": [
    "patient_list = {subject_id: \"\" for subject_id in subject_ids}\n",
    "patient_list"
   ]
  },
  {
   "cell_type": "code",
   "execution_count": 71,
   "metadata": {},
   "outputs": [
    {
     "ename": "KeyError",
     "evalue": "'subject_id'",
     "output_type": "error",
     "traceback": [
      "\u001b[0;31m---------------------------------------------------------------------------\u001b[0m",
      "\u001b[0;31mKeyError\u001b[0m                                  Traceback (most recent call last)",
      "Cell \u001b[0;32mIn[71], line 2\u001b[0m\n\u001b[1;32m      1\u001b[0m \u001b[38;5;28;01mfor\u001b[39;00m row \u001b[38;5;129;01min\u001b[39;00m \u001b[38;5;28mrange\u001b[39m(\u001b[38;5;28mlen\u001b[39m(df)):\n\u001b[0;32m----> 2\u001b[0m     subject_ids[df\u001b[38;5;241m.\u001b[39mloc[\u001b[38;5;124m\"\u001b[39m\u001b[38;5;124msubject_id\u001b[39m\u001b[38;5;124m\"\u001b[39m]] \u001b[38;5;241m+\u001b[39m\u001b[38;5;241m=\u001b[39m df\u001b[38;5;241m.\u001b[39mloc[row][\u001b[38;5;124m\"\u001b[39m\u001b[38;5;124mtext\u001b[39m\u001b[38;5;124m\"\u001b[39m]\n\u001b[1;32m      4\u001b[0m \u001b[38;5;28mprint\u001b[39m(subject_ids)\n",
      "File \u001b[0;32m~/anaconda3/lib/python3.11/site-packages/pandas/core/indexing.py:1103\u001b[0m, in \u001b[0;36m_LocationIndexer.__getitem__\u001b[0;34m(self, key)\u001b[0m\n\u001b[1;32m   1100\u001b[0m axis \u001b[38;5;241m=\u001b[39m \u001b[38;5;28mself\u001b[39m\u001b[38;5;241m.\u001b[39maxis \u001b[38;5;129;01mor\u001b[39;00m \u001b[38;5;241m0\u001b[39m\n\u001b[1;32m   1102\u001b[0m maybe_callable \u001b[38;5;241m=\u001b[39m com\u001b[38;5;241m.\u001b[39mapply_if_callable(key, \u001b[38;5;28mself\u001b[39m\u001b[38;5;241m.\u001b[39mobj)\n\u001b[0;32m-> 1103\u001b[0m \u001b[38;5;28;01mreturn\u001b[39;00m \u001b[38;5;28mself\u001b[39m\u001b[38;5;241m.\u001b[39m_getitem_axis(maybe_callable, axis\u001b[38;5;241m=\u001b[39maxis)\n",
      "File \u001b[0;32m~/anaconda3/lib/python3.11/site-packages/pandas/core/indexing.py:1343\u001b[0m, in \u001b[0;36m_LocIndexer._getitem_axis\u001b[0;34m(self, key, axis)\u001b[0m\n\u001b[1;32m   1341\u001b[0m \u001b[38;5;66;03m# fall thru to straight lookup\u001b[39;00m\n\u001b[1;32m   1342\u001b[0m \u001b[38;5;28mself\u001b[39m\u001b[38;5;241m.\u001b[39m_validate_key(key, axis)\n\u001b[0;32m-> 1343\u001b[0m \u001b[38;5;28;01mreturn\u001b[39;00m \u001b[38;5;28mself\u001b[39m\u001b[38;5;241m.\u001b[39m_get_label(key, axis\u001b[38;5;241m=\u001b[39maxis)\n",
      "File \u001b[0;32m~/anaconda3/lib/python3.11/site-packages/pandas/core/indexing.py:1293\u001b[0m, in \u001b[0;36m_LocIndexer._get_label\u001b[0;34m(self, label, axis)\u001b[0m\n\u001b[1;32m   1291\u001b[0m \u001b[38;5;28;01mdef\u001b[39;00m \u001b[38;5;21m_get_label\u001b[39m(\u001b[38;5;28mself\u001b[39m, label, axis: AxisInt):\n\u001b[1;32m   1292\u001b[0m     \u001b[38;5;66;03m# GH#5567 this will fail if the label is not present in the axis.\u001b[39;00m\n\u001b[0;32m-> 1293\u001b[0m     \u001b[38;5;28;01mreturn\u001b[39;00m \u001b[38;5;28mself\u001b[39m\u001b[38;5;241m.\u001b[39mobj\u001b[38;5;241m.\u001b[39mxs(label, axis\u001b[38;5;241m=\u001b[39maxis)\n",
      "File \u001b[0;32m~/anaconda3/lib/python3.11/site-packages/pandas/core/generic.py:4095\u001b[0m, in \u001b[0;36mNDFrame.xs\u001b[0;34m(self, key, axis, level, drop_level)\u001b[0m\n\u001b[1;32m   4093\u001b[0m             new_index \u001b[38;5;241m=\u001b[39m index[loc]\n\u001b[1;32m   4094\u001b[0m \u001b[38;5;28;01melse\u001b[39;00m:\n\u001b[0;32m-> 4095\u001b[0m     loc \u001b[38;5;241m=\u001b[39m index\u001b[38;5;241m.\u001b[39mget_loc(key)\n\u001b[1;32m   4097\u001b[0m     \u001b[38;5;28;01mif\u001b[39;00m \u001b[38;5;28misinstance\u001b[39m(loc, np\u001b[38;5;241m.\u001b[39mndarray):\n\u001b[1;32m   4098\u001b[0m         \u001b[38;5;28;01mif\u001b[39;00m loc\u001b[38;5;241m.\u001b[39mdtype \u001b[38;5;241m==\u001b[39m np\u001b[38;5;241m.\u001b[39mbool_:\n",
      "File \u001b[0;32m~/anaconda3/lib/python3.11/site-packages/pandas/core/indexes/range.py:349\u001b[0m, in \u001b[0;36mRangeIndex.get_loc\u001b[0;34m(self, key)\u001b[0m\n\u001b[1;32m    347\u001b[0m         \u001b[38;5;28;01mraise\u001b[39;00m \u001b[38;5;167;01mKeyError\u001b[39;00m(key) \u001b[38;5;28;01mfrom\u001b[39;00m \u001b[38;5;21;01merr\u001b[39;00m\n\u001b[1;32m    348\u001b[0m \u001b[38;5;28;01mif\u001b[39;00m \u001b[38;5;28misinstance\u001b[39m(key, Hashable):\n\u001b[0;32m--> 349\u001b[0m     \u001b[38;5;28;01mraise\u001b[39;00m \u001b[38;5;167;01mKeyError\u001b[39;00m(key)\n\u001b[1;32m    350\u001b[0m \u001b[38;5;28mself\u001b[39m\u001b[38;5;241m.\u001b[39m_check_indexing_error(key)\n\u001b[1;32m    351\u001b[0m \u001b[38;5;28;01mraise\u001b[39;00m \u001b[38;5;167;01mKeyError\u001b[39;00m(key)\n",
      "\u001b[0;31mKeyError\u001b[0m: 'subject_id'"
     ]
    }
   ],
   "source": [
    "# for each row in df \n",
    "#   concatenate text part to patient_list for each patient\n",
    "\n",
    "\n",
    "print(patient_id)"
   ]
  }
 ],
 "metadata": {
  "kernelspec": {
   "display_name": "Python 3",
   "language": "python",
   "name": "python3"
  },
  "language_info": {
   "codemirror_mode": {
    "name": "ipython",
    "version": 3
   },
   "file_extension": ".py",
   "mimetype": "text/x-python",
   "name": "python",
   "nbconvert_exporter": "python",
   "pygments_lexer": "ipython3",
   "version": "3.11.5"
  }
 },
 "nbformat": 4,
 "nbformat_minor": 2
}
