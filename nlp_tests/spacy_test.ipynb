{
 "cells": [
  {
   "cell_type": "markdown",
   "metadata": {},
   "source": [
    "# Guide to installing scispacy\n",
    "\n",
    "---\n",
    "\n",
    "**Note:** I did have to change python versions to version 3.8.8\n",
    "\n",
    "otherwise just follow the below notebook and you should be able to install and use scispacy"
   ]
  },
  {
   "cell_type": "code",
   "execution_count": 1,
   "metadata": {},
   "outputs": [
    {
     "name": "stdout",
     "output_type": "stream",
     "text": [
      "Requirement already satisfied: pip in /Users/alex/opt/anaconda3/lib/python3.8/site-packages (24.0)\n",
      "Requirement already satisfied: setuptools in /Users/alex/opt/anaconda3/lib/python3.8/site-packages (69.1.1)\n",
      "Requirement already satisfied: wheel in /Users/alex/opt/anaconda3/lib/python3.8/site-packages (0.42.0)\n",
      "\u001b[33mDEPRECATION: pyodbc 4.0.0-unsupported has a non-standard version number. pip 24.1 will enforce this behaviour change. A possible replacement is to upgrade to a newer version of pyodbc or contact the author to suggest that they release a version with a conforming version number. Discussion can be found at https://github.com/pypa/pip/issues/12063\u001b[0m\u001b[33m\n",
      "\u001b[0mNote: you may need to restart the kernel to use updated packages.\n"
     ]
    }
   ],
   "source": [
    "## importing spacy\n",
    "\n",
    "%pip install -U pip setuptools wheel\n"
   ]
  },
  {
   "cell_type": "code",
   "execution_count": 2,
   "metadata": {},
   "outputs": [
    {
     "name": "stdout",
     "output_type": "stream",
     "text": [
      "Requirement already satisfied: spacy[apple] in /Users/alex/opt/anaconda3/lib/python3.8/site-packages (3.7.4)\n",
      "Requirement already satisfied: spacy-legacy<3.1.0,>=3.0.11 in /Users/alex/opt/anaconda3/lib/python3.8/site-packages (from spacy[apple]) (3.0.12)\n",
      "Requirement already satisfied: spacy-loggers<2.0.0,>=1.0.0 in /Users/alex/opt/anaconda3/lib/python3.8/site-packages (from spacy[apple]) (1.0.5)\n",
      "Requirement already satisfied: murmurhash<1.1.0,>=0.28.0 in /Users/alex/opt/anaconda3/lib/python3.8/site-packages (from spacy[apple]) (1.0.10)\n",
      "Requirement already satisfied: cymem<2.1.0,>=2.0.2 in /Users/alex/opt/anaconda3/lib/python3.8/site-packages (from spacy[apple]) (2.0.8)\n",
      "Requirement already satisfied: preshed<3.1.0,>=3.0.2 in /Users/alex/opt/anaconda3/lib/python3.8/site-packages (from spacy[apple]) (3.0.9)\n",
      "Requirement already satisfied: thinc<8.3.0,>=8.2.2 in /Users/alex/opt/anaconda3/lib/python3.8/site-packages (from spacy[apple]) (8.2.3)\n",
      "Requirement already satisfied: wasabi<1.2.0,>=0.9.1 in /Users/alex/opt/anaconda3/lib/python3.8/site-packages (from spacy[apple]) (1.1.2)\n",
      "Requirement already satisfied: srsly<3.0.0,>=2.4.3 in /Users/alex/opt/anaconda3/lib/python3.8/site-packages (from spacy[apple]) (2.4.7)\n",
      "Requirement already satisfied: catalogue<2.1.0,>=2.0.6 in /Users/alex/opt/anaconda3/lib/python3.8/site-packages (from spacy[apple]) (2.0.9)\n",
      "Requirement already satisfied: weasel<0.4.0,>=0.1.0 in /Users/alex/opt/anaconda3/lib/python3.8/site-packages (from spacy[apple]) (0.3.4)\n",
      "Requirement already satisfied: typer<0.10.0,>=0.3.0 in /Users/alex/opt/anaconda3/lib/python3.8/site-packages (from spacy[apple]) (0.9.0)\n",
      "Requirement already satisfied: smart-open<7.0.0,>=5.2.1 in /Users/alex/opt/anaconda3/lib/python3.8/site-packages (from spacy[apple]) (6.4.0)\n",
      "Requirement already satisfied: tqdm<5.0.0,>=4.38.0 in /Users/alex/opt/anaconda3/lib/python3.8/site-packages (from spacy[apple]) (4.59.0)\n",
      "Requirement already satisfied: requests<3.0.0,>=2.13.0 in /Users/alex/opt/anaconda3/lib/python3.8/site-packages (from spacy[apple]) (2.31.0)\n",
      "Requirement already satisfied: pydantic!=1.8,!=1.8.1,<3.0.0,>=1.7.4 in /Users/alex/opt/anaconda3/lib/python3.8/site-packages (from spacy[apple]) (2.3.0)\n",
      "Requirement already satisfied: jinja2 in /Users/alex/opt/anaconda3/lib/python3.8/site-packages (from spacy[apple]) (3.1.2)\n",
      "Requirement already satisfied: setuptools in /Users/alex/opt/anaconda3/lib/python3.8/site-packages (from spacy[apple]) (69.1.1)\n",
      "Requirement already satisfied: packaging>=20.0 in /Users/alex/opt/anaconda3/lib/python3.8/site-packages (from spacy[apple]) (20.9)\n",
      "Requirement already satisfied: langcodes<4.0.0,>=3.2.0 in /Users/alex/opt/anaconda3/lib/python3.8/site-packages (from spacy[apple]) (3.3.0)\n",
      "Requirement already satisfied: numpy>=1.15.0 in /Users/alex/opt/anaconda3/lib/python3.8/site-packages (from spacy[apple]) (1.22.4)\n",
      "Requirement already satisfied: thinc-apple-ops<1.0.0,>=0.1.0.dev0 in /Users/alex/opt/anaconda3/lib/python3.8/site-packages (from spacy[apple]) (0.1.4)\n",
      "Requirement already satisfied: pyparsing>=2.0.2 in /Users/alex/opt/anaconda3/lib/python3.8/site-packages (from packaging>=20.0->spacy[apple]) (2.4.7)\n",
      "Requirement already satisfied: annotated-types>=0.4.0 in /Users/alex/opt/anaconda3/lib/python3.8/site-packages (from pydantic!=1.8,!=1.8.1,<3.0.0,>=1.7.4->spacy[apple]) (0.5.0)\n",
      "Requirement already satisfied: pydantic-core==2.6.3 in /Users/alex/opt/anaconda3/lib/python3.8/site-packages (from pydantic!=1.8,!=1.8.1,<3.0.0,>=1.7.4->spacy[apple]) (2.6.3)\n",
      "Requirement already satisfied: typing-extensions>=4.6.1 in /Users/alex/opt/anaconda3/lib/python3.8/site-packages (from pydantic!=1.8,!=1.8.1,<3.0.0,>=1.7.4->spacy[apple]) (4.8.0)\n",
      "Requirement already satisfied: charset-normalizer<4,>=2 in /Users/alex/opt/anaconda3/lib/python3.8/site-packages (from requests<3.0.0,>=2.13.0->spacy[apple]) (3.2.0)\n",
      "Requirement already satisfied: idna<4,>=2.5 in /Users/alex/opt/anaconda3/lib/python3.8/site-packages (from requests<3.0.0,>=2.13.0->spacy[apple]) (2.10)\n",
      "Requirement already satisfied: urllib3<3,>=1.21.1 in /Users/alex/opt/anaconda3/lib/python3.8/site-packages (from requests<3.0.0,>=2.13.0->spacy[apple]) (1.26.4)\n",
      "Requirement already satisfied: certifi>=2017.4.17 in /Users/alex/opt/anaconda3/lib/python3.8/site-packages (from requests<3.0.0,>=2.13.0->spacy[apple]) (2020.12.5)\n",
      "Requirement already satisfied: blis<0.8.0,>=0.7.8 in /Users/alex/opt/anaconda3/lib/python3.8/site-packages (from thinc<8.3.0,>=8.2.2->spacy[apple]) (0.7.10)\n",
      "Requirement already satisfied: confection<1.0.0,>=0.0.1 in /Users/alex/opt/anaconda3/lib/python3.8/site-packages (from thinc<8.3.0,>=8.2.2->spacy[apple]) (0.1.3)\n",
      "Requirement already satisfied: click<9.0.0,>=7.1.1 in /Users/alex/opt/anaconda3/lib/python3.8/site-packages (from typer<0.10.0,>=0.3.0->spacy[apple]) (8.1.6)\n",
      "Requirement already satisfied: cloudpathlib<0.17.0,>=0.7.0 in /Users/alex/opt/anaconda3/lib/python3.8/site-packages (from weasel<0.4.0,>=0.1.0->spacy[apple]) (0.16.0)\n",
      "Requirement already satisfied: MarkupSafe>=2.0 in /Users/alex/opt/anaconda3/lib/python3.8/site-packages (from jinja2->spacy[apple]) (2.1.3)\n",
      "\u001b[33mDEPRECATION: pyodbc 4.0.0-unsupported has a non-standard version number. pip 24.1 will enforce this behaviour change. A possible replacement is to upgrade to a newer version of pyodbc or contact the author to suggest that they release a version with a conforming version number. Discussion can be found at https://github.com/pypa/pip/issues/12063\u001b[0m\u001b[33m\n",
      "\u001b[0mNote: you may need to restart the kernel to use updated packages.\n"
     ]
    }
   ],
   "source": [
    "%pip install -U 'spacy[apple]'"
   ]
  },
  {
   "cell_type": "code",
   "execution_count": 3,
   "metadata": {},
   "outputs": [
    {
     "name": "stdout",
     "output_type": "stream",
     "text": [
      "Collecting en-core-web-sm==3.7.1\n",
      "  Downloading https://github.com/explosion/spacy-models/releases/download/en_core_web_sm-3.7.1/en_core_web_sm-3.7.1-py3-none-any.whl (12.8 MB)\n",
      "\u001b[2K     \u001b[90m━━━━━━━━━━━━━━━━━━━━━━━━━━━━━━━━━━━━━━━━\u001b[0m \u001b[32m12.8/12.8 MB\u001b[0m \u001b[31m5.9 MB/s\u001b[0m eta \u001b[36m0:00:00\u001b[0m00:01\u001b[0m00:01\u001b[0m\n",
      "\u001b[?25hRequirement already satisfied: spacy<3.8.0,>=3.7.2 in /Users/alex/opt/anaconda3/lib/python3.8/site-packages (from en-core-web-sm==3.7.1) (3.7.4)\n",
      "Requirement already satisfied: spacy-legacy<3.1.0,>=3.0.11 in /Users/alex/opt/anaconda3/lib/python3.8/site-packages (from spacy<3.8.0,>=3.7.2->en-core-web-sm==3.7.1) (3.0.12)\n",
      "Requirement already satisfied: spacy-loggers<2.0.0,>=1.0.0 in /Users/alex/opt/anaconda3/lib/python3.8/site-packages (from spacy<3.8.0,>=3.7.2->en-core-web-sm==3.7.1) (1.0.5)\n",
      "Requirement already satisfied: murmurhash<1.1.0,>=0.28.0 in /Users/alex/opt/anaconda3/lib/python3.8/site-packages (from spacy<3.8.0,>=3.7.2->en-core-web-sm==3.7.1) (1.0.10)\n",
      "Requirement already satisfied: cymem<2.1.0,>=2.0.2 in /Users/alex/opt/anaconda3/lib/python3.8/site-packages (from spacy<3.8.0,>=3.7.2->en-core-web-sm==3.7.1) (2.0.8)\n",
      "Requirement already satisfied: preshed<3.1.0,>=3.0.2 in /Users/alex/opt/anaconda3/lib/python3.8/site-packages (from spacy<3.8.0,>=3.7.2->en-core-web-sm==3.7.1) (3.0.9)\n",
      "Requirement already satisfied: thinc<8.3.0,>=8.2.2 in /Users/alex/opt/anaconda3/lib/python3.8/site-packages (from spacy<3.8.0,>=3.7.2->en-core-web-sm==3.7.1) (8.2.3)\n",
      "Requirement already satisfied: wasabi<1.2.0,>=0.9.1 in /Users/alex/opt/anaconda3/lib/python3.8/site-packages (from spacy<3.8.0,>=3.7.2->en-core-web-sm==3.7.1) (1.1.2)\n",
      "Requirement already satisfied: srsly<3.0.0,>=2.4.3 in /Users/alex/opt/anaconda3/lib/python3.8/site-packages (from spacy<3.8.0,>=3.7.2->en-core-web-sm==3.7.1) (2.4.7)\n",
      "Requirement already satisfied: catalogue<2.1.0,>=2.0.6 in /Users/alex/opt/anaconda3/lib/python3.8/site-packages (from spacy<3.8.0,>=3.7.2->en-core-web-sm==3.7.1) (2.0.9)\n",
      "Requirement already satisfied: weasel<0.4.0,>=0.1.0 in /Users/alex/opt/anaconda3/lib/python3.8/site-packages (from spacy<3.8.0,>=3.7.2->en-core-web-sm==3.7.1) (0.3.4)\n",
      "Requirement already satisfied: typer<0.10.0,>=0.3.0 in /Users/alex/opt/anaconda3/lib/python3.8/site-packages (from spacy<3.8.0,>=3.7.2->en-core-web-sm==3.7.1) (0.9.0)\n",
      "Requirement already satisfied: smart-open<7.0.0,>=5.2.1 in /Users/alex/opt/anaconda3/lib/python3.8/site-packages (from spacy<3.8.0,>=3.7.2->en-core-web-sm==3.7.1) (6.4.0)\n",
      "Requirement already satisfied: tqdm<5.0.0,>=4.38.0 in /Users/alex/opt/anaconda3/lib/python3.8/site-packages (from spacy<3.8.0,>=3.7.2->en-core-web-sm==3.7.1) (4.59.0)\n",
      "Requirement already satisfied: requests<3.0.0,>=2.13.0 in /Users/alex/opt/anaconda3/lib/python3.8/site-packages (from spacy<3.8.0,>=3.7.2->en-core-web-sm==3.7.1) (2.31.0)\n",
      "Requirement already satisfied: pydantic!=1.8,!=1.8.1,<3.0.0,>=1.7.4 in /Users/alex/opt/anaconda3/lib/python3.8/site-packages (from spacy<3.8.0,>=3.7.2->en-core-web-sm==3.7.1) (2.3.0)\n",
      "Requirement already satisfied: jinja2 in /Users/alex/opt/anaconda3/lib/python3.8/site-packages (from spacy<3.8.0,>=3.7.2->en-core-web-sm==3.7.1) (3.1.2)\n",
      "Requirement already satisfied: setuptools in /Users/alex/opt/anaconda3/lib/python3.8/site-packages (from spacy<3.8.0,>=3.7.2->en-core-web-sm==3.7.1) (69.1.1)\n",
      "Requirement already satisfied: packaging>=20.0 in /Users/alex/opt/anaconda3/lib/python3.8/site-packages (from spacy<3.8.0,>=3.7.2->en-core-web-sm==3.7.1) (20.9)\n",
      "Requirement already satisfied: langcodes<4.0.0,>=3.2.0 in /Users/alex/opt/anaconda3/lib/python3.8/site-packages (from spacy<3.8.0,>=3.7.2->en-core-web-sm==3.7.1) (3.3.0)\n",
      "Requirement already satisfied: numpy>=1.15.0 in /Users/alex/opt/anaconda3/lib/python3.8/site-packages (from spacy<3.8.0,>=3.7.2->en-core-web-sm==3.7.1) (1.22.4)\n",
      "Requirement already satisfied: pyparsing>=2.0.2 in /Users/alex/opt/anaconda3/lib/python3.8/site-packages (from packaging>=20.0->spacy<3.8.0,>=3.7.2->en-core-web-sm==3.7.1) (2.4.7)\n",
      "Requirement already satisfied: annotated-types>=0.4.0 in /Users/alex/opt/anaconda3/lib/python3.8/site-packages (from pydantic!=1.8,!=1.8.1,<3.0.0,>=1.7.4->spacy<3.8.0,>=3.7.2->en-core-web-sm==3.7.1) (0.5.0)\n",
      "Requirement already satisfied: pydantic-core==2.6.3 in /Users/alex/opt/anaconda3/lib/python3.8/site-packages (from pydantic!=1.8,!=1.8.1,<3.0.0,>=1.7.4->spacy<3.8.0,>=3.7.2->en-core-web-sm==3.7.1) (2.6.3)\n",
      "Requirement already satisfied: typing-extensions>=4.6.1 in /Users/alex/opt/anaconda3/lib/python3.8/site-packages (from pydantic!=1.8,!=1.8.1,<3.0.0,>=1.7.4->spacy<3.8.0,>=3.7.2->en-core-web-sm==3.7.1) (4.8.0)\n",
      "Requirement already satisfied: charset-normalizer<4,>=2 in /Users/alex/opt/anaconda3/lib/python3.8/site-packages (from requests<3.0.0,>=2.13.0->spacy<3.8.0,>=3.7.2->en-core-web-sm==3.7.1) (3.2.0)\n",
      "Requirement already satisfied: idna<4,>=2.5 in /Users/alex/opt/anaconda3/lib/python3.8/site-packages (from requests<3.0.0,>=2.13.0->spacy<3.8.0,>=3.7.2->en-core-web-sm==3.7.1) (2.10)\n",
      "Requirement already satisfied: urllib3<3,>=1.21.1 in /Users/alex/opt/anaconda3/lib/python3.8/site-packages (from requests<3.0.0,>=2.13.0->spacy<3.8.0,>=3.7.2->en-core-web-sm==3.7.1) (1.26.4)\n",
      "Requirement already satisfied: certifi>=2017.4.17 in /Users/alex/opt/anaconda3/lib/python3.8/site-packages (from requests<3.0.0,>=2.13.0->spacy<3.8.0,>=3.7.2->en-core-web-sm==3.7.1) (2020.12.5)\n",
      "Requirement already satisfied: blis<0.8.0,>=0.7.8 in /Users/alex/opt/anaconda3/lib/python3.8/site-packages (from thinc<8.3.0,>=8.2.2->spacy<3.8.0,>=3.7.2->en-core-web-sm==3.7.1) (0.7.10)\n",
      "Requirement already satisfied: confection<1.0.0,>=0.0.1 in /Users/alex/opt/anaconda3/lib/python3.8/site-packages (from thinc<8.3.0,>=8.2.2->spacy<3.8.0,>=3.7.2->en-core-web-sm==3.7.1) (0.1.3)\n",
      "Requirement already satisfied: click<9.0.0,>=7.1.1 in /Users/alex/opt/anaconda3/lib/python3.8/site-packages (from typer<0.10.0,>=0.3.0->spacy<3.8.0,>=3.7.2->en-core-web-sm==3.7.1) (8.1.6)\n",
      "Requirement already satisfied: cloudpathlib<0.17.0,>=0.7.0 in /Users/alex/opt/anaconda3/lib/python3.8/site-packages (from weasel<0.4.0,>=0.1.0->spacy<3.8.0,>=3.7.2->en-core-web-sm==3.7.1) (0.16.0)\n",
      "Requirement already satisfied: MarkupSafe>=2.0 in /Users/alex/opt/anaconda3/lib/python3.8/site-packages (from jinja2->spacy<3.8.0,>=3.7.2->en-core-web-sm==3.7.1) (2.1.3)\n",
      "\u001b[33mDEPRECATION: pyodbc 4.0.0-unsupported has a non-standard version number. pip 24.1 will enforce this behaviour change. A possible replacement is to upgrade to a newer version of pyodbc or contact the author to suggest that they release a version with a conforming version number. Discussion can be found at https://github.com/pypa/pip/issues/12063\u001b[0m\u001b[33m\n",
      "\u001b[0m\u001b[38;5;2m✔ Download and installation successful\u001b[0m\n",
      "You can now load the package via spacy.load('en_core_web_sm')\n"
     ]
    }
   ],
   "source": [
    "!python -m spacy download en_core_web_sm"
   ]
  },
  {
   "cell_type": "code",
   "execution_count": 4,
   "metadata": {},
   "outputs": [
    {
     "name": "stdout",
     "output_type": "stream",
     "text": [
      "Requirement already satisfied: pip in /Users/alex/opt/anaconda3/lib/python3.8/site-packages (24.0)\n",
      "Requirement already satisfied: setuptools in /Users/alex/opt/anaconda3/lib/python3.8/site-packages (69.1.1)\n",
      "\u001b[33mDEPRECATION: pyodbc 4.0.0-unsupported has a non-standard version number. pip 24.1 will enforce this behaviour change. A possible replacement is to upgrade to a newer version of pyodbc or contact the author to suggest that they release a version with a conforming version number. Discussion can be found at https://github.com/pypa/pip/issues/12063\u001b[0m\u001b[33m\n",
      "\u001b[0mNote: you may need to restart the kernel to use updated packages.\n"
     ]
    }
   ],
   "source": [
    "%pip install --upgrade pip setuptools"
   ]
  },
  {
   "cell_type": "code",
   "execution_count": 5,
   "metadata": {},
   "outputs": [
    {
     "name": "stdout",
     "output_type": "stream",
     "text": [
      "Requirement already satisfied: scispacy in /Users/alex/opt/anaconda3/lib/python3.8/site-packages (0.5.4)\n",
      "Requirement already satisfied: spacy<3.8.0,>=3.7.0 in /Users/alex/opt/anaconda3/lib/python3.8/site-packages (from scispacy) (3.7.4)\n",
      "Requirement already satisfied: scipy<1.11 in /Users/alex/opt/anaconda3/lib/python3.8/site-packages (from scispacy) (1.6.2)\n",
      "Requirement already satisfied: requests<3.0.0,>=2.0.0 in /Users/alex/opt/anaconda3/lib/python3.8/site-packages (from scispacy) (2.31.0)\n",
      "Requirement already satisfied: conllu in /Users/alex/opt/anaconda3/lib/python3.8/site-packages (from scispacy) (4.5.3)\n",
      "Requirement already satisfied: numpy in /Users/alex/opt/anaconda3/lib/python3.8/site-packages (from scispacy) (1.22.4)\n",
      "Requirement already satisfied: joblib in /Users/alex/opt/anaconda3/lib/python3.8/site-packages (from scispacy) (1.0.1)\n",
      "Requirement already satisfied: nmslib>=1.7.3.6 in /Users/alex/opt/anaconda3/lib/python3.8/site-packages (from scispacy) (2.1.1)\n",
      "Requirement already satisfied: scikit-learn>=0.20.3 in /Users/alex/opt/anaconda3/lib/python3.8/site-packages (from scispacy) (0.24.1)\n",
      "Requirement already satisfied: pysbd in /Users/alex/opt/anaconda3/lib/python3.8/site-packages (from scispacy) (0.3.4)\n",
      "Requirement already satisfied: pybind11<2.6.2 in /Users/alex/opt/anaconda3/lib/python3.8/site-packages (from nmslib>=1.7.3.6->scispacy) (2.6.1)\n",
      "Requirement already satisfied: psutil in /Users/alex/opt/anaconda3/lib/python3.8/site-packages (from nmslib>=1.7.3.6->scispacy) (5.8.0)\n",
      "Requirement already satisfied: charset-normalizer<4,>=2 in /Users/alex/opt/anaconda3/lib/python3.8/site-packages (from requests<3.0.0,>=2.0.0->scispacy) (3.2.0)\n",
      "Requirement already satisfied: idna<4,>=2.5 in /Users/alex/opt/anaconda3/lib/python3.8/site-packages (from requests<3.0.0,>=2.0.0->scispacy) (2.10)\n",
      "Requirement already satisfied: urllib3<3,>=1.21.1 in /Users/alex/opt/anaconda3/lib/python3.8/site-packages (from requests<3.0.0,>=2.0.0->scispacy) (1.26.4)\n",
      "Requirement already satisfied: certifi>=2017.4.17 in /Users/alex/opt/anaconda3/lib/python3.8/site-packages (from requests<3.0.0,>=2.0.0->scispacy) (2020.12.5)\n",
      "Requirement already satisfied: threadpoolctl>=2.0.0 in /Users/alex/opt/anaconda3/lib/python3.8/site-packages (from scikit-learn>=0.20.3->scispacy) (2.1.0)\n",
      "Requirement already satisfied: spacy-legacy<3.1.0,>=3.0.11 in /Users/alex/opt/anaconda3/lib/python3.8/site-packages (from spacy<3.8.0,>=3.7.0->scispacy) (3.0.12)\n",
      "Requirement already satisfied: spacy-loggers<2.0.0,>=1.0.0 in /Users/alex/opt/anaconda3/lib/python3.8/site-packages (from spacy<3.8.0,>=3.7.0->scispacy) (1.0.5)\n",
      "Requirement already satisfied: murmurhash<1.1.0,>=0.28.0 in /Users/alex/opt/anaconda3/lib/python3.8/site-packages (from spacy<3.8.0,>=3.7.0->scispacy) (1.0.10)\n",
      "Requirement already satisfied: cymem<2.1.0,>=2.0.2 in /Users/alex/opt/anaconda3/lib/python3.8/site-packages (from spacy<3.8.0,>=3.7.0->scispacy) (2.0.8)\n",
      "Requirement already satisfied: preshed<3.1.0,>=3.0.2 in /Users/alex/opt/anaconda3/lib/python3.8/site-packages (from spacy<3.8.0,>=3.7.0->scispacy) (3.0.9)\n",
      "Requirement already satisfied: thinc<8.3.0,>=8.2.2 in /Users/alex/opt/anaconda3/lib/python3.8/site-packages (from spacy<3.8.0,>=3.7.0->scispacy) (8.2.3)\n",
      "Requirement already satisfied: wasabi<1.2.0,>=0.9.1 in /Users/alex/opt/anaconda3/lib/python3.8/site-packages (from spacy<3.8.0,>=3.7.0->scispacy) (1.1.2)\n",
      "Requirement already satisfied: srsly<3.0.0,>=2.4.3 in /Users/alex/opt/anaconda3/lib/python3.8/site-packages (from spacy<3.8.0,>=3.7.0->scispacy) (2.4.7)\n",
      "Requirement already satisfied: catalogue<2.1.0,>=2.0.6 in /Users/alex/opt/anaconda3/lib/python3.8/site-packages (from spacy<3.8.0,>=3.7.0->scispacy) (2.0.9)\n",
      "Requirement already satisfied: weasel<0.4.0,>=0.1.0 in /Users/alex/opt/anaconda3/lib/python3.8/site-packages (from spacy<3.8.0,>=3.7.0->scispacy) (0.3.4)\n",
      "Requirement already satisfied: typer<0.10.0,>=0.3.0 in /Users/alex/opt/anaconda3/lib/python3.8/site-packages (from spacy<3.8.0,>=3.7.0->scispacy) (0.9.0)\n",
      "Requirement already satisfied: smart-open<7.0.0,>=5.2.1 in /Users/alex/opt/anaconda3/lib/python3.8/site-packages (from spacy<3.8.0,>=3.7.0->scispacy) (6.4.0)\n",
      "Requirement already satisfied: tqdm<5.0.0,>=4.38.0 in /Users/alex/opt/anaconda3/lib/python3.8/site-packages (from spacy<3.8.0,>=3.7.0->scispacy) (4.59.0)\n",
      "Requirement already satisfied: pydantic!=1.8,!=1.8.1,<3.0.0,>=1.7.4 in /Users/alex/opt/anaconda3/lib/python3.8/site-packages (from spacy<3.8.0,>=3.7.0->scispacy) (2.3.0)\n",
      "Requirement already satisfied: jinja2 in /Users/alex/opt/anaconda3/lib/python3.8/site-packages (from spacy<3.8.0,>=3.7.0->scispacy) (3.1.2)\n",
      "Requirement already satisfied: setuptools in /Users/alex/opt/anaconda3/lib/python3.8/site-packages (from spacy<3.8.0,>=3.7.0->scispacy) (69.1.1)\n",
      "Requirement already satisfied: packaging>=20.0 in /Users/alex/opt/anaconda3/lib/python3.8/site-packages (from spacy<3.8.0,>=3.7.0->scispacy) (20.9)\n",
      "Requirement already satisfied: langcodes<4.0.0,>=3.2.0 in /Users/alex/opt/anaconda3/lib/python3.8/site-packages (from spacy<3.8.0,>=3.7.0->scispacy) (3.3.0)\n",
      "Requirement already satisfied: pyparsing>=2.0.2 in /Users/alex/opt/anaconda3/lib/python3.8/site-packages (from packaging>=20.0->spacy<3.8.0,>=3.7.0->scispacy) (2.4.7)\n",
      "Requirement already satisfied: annotated-types>=0.4.0 in /Users/alex/opt/anaconda3/lib/python3.8/site-packages (from pydantic!=1.8,!=1.8.1,<3.0.0,>=1.7.4->spacy<3.8.0,>=3.7.0->scispacy) (0.5.0)\n",
      "Requirement already satisfied: pydantic-core==2.6.3 in /Users/alex/opt/anaconda3/lib/python3.8/site-packages (from pydantic!=1.8,!=1.8.1,<3.0.0,>=1.7.4->spacy<3.8.0,>=3.7.0->scispacy) (2.6.3)\n",
      "Requirement already satisfied: typing-extensions>=4.6.1 in /Users/alex/opt/anaconda3/lib/python3.8/site-packages (from pydantic!=1.8,!=1.8.1,<3.0.0,>=1.7.4->spacy<3.8.0,>=3.7.0->scispacy) (4.8.0)\n",
      "Requirement already satisfied: blis<0.8.0,>=0.7.8 in /Users/alex/opt/anaconda3/lib/python3.8/site-packages (from thinc<8.3.0,>=8.2.2->spacy<3.8.0,>=3.7.0->scispacy) (0.7.10)\n",
      "Requirement already satisfied: confection<1.0.0,>=0.0.1 in /Users/alex/opt/anaconda3/lib/python3.8/site-packages (from thinc<8.3.0,>=8.2.2->spacy<3.8.0,>=3.7.0->scispacy) (0.1.3)\n",
      "Requirement already satisfied: click<9.0.0,>=7.1.1 in /Users/alex/opt/anaconda3/lib/python3.8/site-packages (from typer<0.10.0,>=0.3.0->spacy<3.8.0,>=3.7.0->scispacy) (8.1.6)\n",
      "Requirement already satisfied: cloudpathlib<0.17.0,>=0.7.0 in /Users/alex/opt/anaconda3/lib/python3.8/site-packages (from weasel<0.4.0,>=0.1.0->spacy<3.8.0,>=3.7.0->scispacy) (0.16.0)\n",
      "Requirement already satisfied: MarkupSafe>=2.0 in /Users/alex/opt/anaconda3/lib/python3.8/site-packages (from jinja2->spacy<3.8.0,>=3.7.0->scispacy) (2.1.3)\n",
      "\u001b[33mDEPRECATION: pyodbc 4.0.0-unsupported has a non-standard version number. pip 24.1 will enforce this behaviour change. A possible replacement is to upgrade to a newer version of pyodbc or contact the author to suggest that they release a version with a conforming version number. Discussion can be found at https://github.com/pypa/pip/issues/12063\u001b[0m\u001b[33m\n",
      "\u001b[0mNote: you may need to restart the kernel to use updated packages.\n"
     ]
    }
   ],
   "source": [
    "%pip install scispacy"
   ]
  },
  {
   "cell_type": "code",
   "execution_count": 6,
   "metadata": {},
   "outputs": [
    {
     "name": "stdout",
     "output_type": "stream",
     "text": [
      "Python 3.8.8\n"
     ]
    }
   ],
   "source": [
    "!python --version"
   ]
  },
  {
   "cell_type": "code",
   "execution_count": 7,
   "metadata": {},
   "outputs": [],
   "source": [
    "import scispacy"
   ]
  },
  {
   "cell_type": "code",
   "execution_count": 8,
   "metadata": {},
   "outputs": [],
   "source": [
    "import spacy"
   ]
  },
  {
   "cell_type": "markdown",
   "metadata": {},
   "source": [
    "### NOTE\n",
    "\n",
    "---\n",
    "\n",
    "go to https://allenai.github.io/scispacy/ and copy the download link for each necessary model to \n",
    "\n",
    "`%pip install <Model URL>`"
   ]
  },
  {
   "cell_type": "code",
   "execution_count": 9,
   "metadata": {},
   "outputs": [
    {
     "name": "stdout",
     "output_type": "stream",
     "text": [
      "Collecting https://s3-us-west-2.amazonaws.com/ai2-s2-scispacy/releases/v0.5.4/en_core_sci_sm-0.5.4.tar.gz\n",
      "  Using cached https://s3-us-west-2.amazonaws.com/ai2-s2-scispacy/releases/v0.5.4/en_core_sci_sm-0.5.4.tar.gz (14.8 MB)\n",
      "  Preparing metadata (setup.py) ... \u001b[?25ldone\n",
      "\u001b[?25hRequirement already satisfied: spacy<3.8.0,>=3.7.4 in /Users/alex/opt/anaconda3/lib/python3.8/site-packages (from en_core_sci_sm==0.5.4) (3.7.4)\n",
      "Requirement already satisfied: spacy-legacy<3.1.0,>=3.0.11 in /Users/alex/opt/anaconda3/lib/python3.8/site-packages (from spacy<3.8.0,>=3.7.4->en_core_sci_sm==0.5.4) (3.0.12)\n",
      "Requirement already satisfied: spacy-loggers<2.0.0,>=1.0.0 in /Users/alex/opt/anaconda3/lib/python3.8/site-packages (from spacy<3.8.0,>=3.7.4->en_core_sci_sm==0.5.4) (1.0.5)\n",
      "Requirement already satisfied: murmurhash<1.1.0,>=0.28.0 in /Users/alex/opt/anaconda3/lib/python3.8/site-packages (from spacy<3.8.0,>=3.7.4->en_core_sci_sm==0.5.4) (1.0.10)\n",
      "Requirement already satisfied: cymem<2.1.0,>=2.0.2 in /Users/alex/opt/anaconda3/lib/python3.8/site-packages (from spacy<3.8.0,>=3.7.4->en_core_sci_sm==0.5.4) (2.0.8)\n",
      "Requirement already satisfied: preshed<3.1.0,>=3.0.2 in /Users/alex/opt/anaconda3/lib/python3.8/site-packages (from spacy<3.8.0,>=3.7.4->en_core_sci_sm==0.5.4) (3.0.9)\n",
      "Requirement already satisfied: thinc<8.3.0,>=8.2.2 in /Users/alex/opt/anaconda3/lib/python3.8/site-packages (from spacy<3.8.0,>=3.7.4->en_core_sci_sm==0.5.4) (8.2.3)\n",
      "Requirement already satisfied: wasabi<1.2.0,>=0.9.1 in /Users/alex/opt/anaconda3/lib/python3.8/site-packages (from spacy<3.8.0,>=3.7.4->en_core_sci_sm==0.5.4) (1.1.2)\n",
      "Requirement already satisfied: srsly<3.0.0,>=2.4.3 in /Users/alex/opt/anaconda3/lib/python3.8/site-packages (from spacy<3.8.0,>=3.7.4->en_core_sci_sm==0.5.4) (2.4.7)\n",
      "Requirement already satisfied: catalogue<2.1.0,>=2.0.6 in /Users/alex/opt/anaconda3/lib/python3.8/site-packages (from spacy<3.8.0,>=3.7.4->en_core_sci_sm==0.5.4) (2.0.9)\n",
      "Requirement already satisfied: weasel<0.4.0,>=0.1.0 in /Users/alex/opt/anaconda3/lib/python3.8/site-packages (from spacy<3.8.0,>=3.7.4->en_core_sci_sm==0.5.4) (0.3.4)\n",
      "Requirement already satisfied: typer<0.10.0,>=0.3.0 in /Users/alex/opt/anaconda3/lib/python3.8/site-packages (from spacy<3.8.0,>=3.7.4->en_core_sci_sm==0.5.4) (0.9.0)\n",
      "Requirement already satisfied: smart-open<7.0.0,>=5.2.1 in /Users/alex/opt/anaconda3/lib/python3.8/site-packages (from spacy<3.8.0,>=3.7.4->en_core_sci_sm==0.5.4) (6.4.0)\n",
      "Requirement already satisfied: tqdm<5.0.0,>=4.38.0 in /Users/alex/opt/anaconda3/lib/python3.8/site-packages (from spacy<3.8.0,>=3.7.4->en_core_sci_sm==0.5.4) (4.59.0)\n",
      "Requirement already satisfied: requests<3.0.0,>=2.13.0 in /Users/alex/opt/anaconda3/lib/python3.8/site-packages (from spacy<3.8.0,>=3.7.4->en_core_sci_sm==0.5.4) (2.31.0)\n",
      "Requirement already satisfied: pydantic!=1.8,!=1.8.1,<3.0.0,>=1.7.4 in /Users/alex/opt/anaconda3/lib/python3.8/site-packages (from spacy<3.8.0,>=3.7.4->en_core_sci_sm==0.5.4) (2.3.0)\n",
      "Requirement already satisfied: jinja2 in /Users/alex/opt/anaconda3/lib/python3.8/site-packages (from spacy<3.8.0,>=3.7.4->en_core_sci_sm==0.5.4) (3.1.2)\n",
      "Requirement already satisfied: setuptools in /Users/alex/opt/anaconda3/lib/python3.8/site-packages (from spacy<3.8.0,>=3.7.4->en_core_sci_sm==0.5.4) (69.1.1)\n",
      "Requirement already satisfied: packaging>=20.0 in /Users/alex/opt/anaconda3/lib/python3.8/site-packages (from spacy<3.8.0,>=3.7.4->en_core_sci_sm==0.5.4) (20.9)\n",
      "Requirement already satisfied: langcodes<4.0.0,>=3.2.0 in /Users/alex/opt/anaconda3/lib/python3.8/site-packages (from spacy<3.8.0,>=3.7.4->en_core_sci_sm==0.5.4) (3.3.0)\n",
      "Requirement already satisfied: numpy>=1.15.0 in /Users/alex/opt/anaconda3/lib/python3.8/site-packages (from spacy<3.8.0,>=3.7.4->en_core_sci_sm==0.5.4) (1.22.4)\n",
      "Requirement already satisfied: pyparsing>=2.0.2 in /Users/alex/opt/anaconda3/lib/python3.8/site-packages (from packaging>=20.0->spacy<3.8.0,>=3.7.4->en_core_sci_sm==0.5.4) (2.4.7)\n",
      "Requirement already satisfied: annotated-types>=0.4.0 in /Users/alex/opt/anaconda3/lib/python3.8/site-packages (from pydantic!=1.8,!=1.8.1,<3.0.0,>=1.7.4->spacy<3.8.0,>=3.7.4->en_core_sci_sm==0.5.4) (0.5.0)\n",
      "Requirement already satisfied: pydantic-core==2.6.3 in /Users/alex/opt/anaconda3/lib/python3.8/site-packages (from pydantic!=1.8,!=1.8.1,<3.0.0,>=1.7.4->spacy<3.8.0,>=3.7.4->en_core_sci_sm==0.5.4) (2.6.3)\n",
      "Requirement already satisfied: typing-extensions>=4.6.1 in /Users/alex/opt/anaconda3/lib/python3.8/site-packages (from pydantic!=1.8,!=1.8.1,<3.0.0,>=1.7.4->spacy<3.8.0,>=3.7.4->en_core_sci_sm==0.5.4) (4.8.0)\n",
      "Requirement already satisfied: charset-normalizer<4,>=2 in /Users/alex/opt/anaconda3/lib/python3.8/site-packages (from requests<3.0.0,>=2.13.0->spacy<3.8.0,>=3.7.4->en_core_sci_sm==0.5.4) (3.2.0)\n",
      "Requirement already satisfied: idna<4,>=2.5 in /Users/alex/opt/anaconda3/lib/python3.8/site-packages (from requests<3.0.0,>=2.13.0->spacy<3.8.0,>=3.7.4->en_core_sci_sm==0.5.4) (2.10)\n",
      "Requirement already satisfied: urllib3<3,>=1.21.1 in /Users/alex/opt/anaconda3/lib/python3.8/site-packages (from requests<3.0.0,>=2.13.0->spacy<3.8.0,>=3.7.4->en_core_sci_sm==0.5.4) (1.26.4)\n",
      "Requirement already satisfied: certifi>=2017.4.17 in /Users/alex/opt/anaconda3/lib/python3.8/site-packages (from requests<3.0.0,>=2.13.0->spacy<3.8.0,>=3.7.4->en_core_sci_sm==0.5.4) (2020.12.5)\n",
      "Requirement already satisfied: blis<0.8.0,>=0.7.8 in /Users/alex/opt/anaconda3/lib/python3.8/site-packages (from thinc<8.3.0,>=8.2.2->spacy<3.8.0,>=3.7.4->en_core_sci_sm==0.5.4) (0.7.10)\n",
      "Requirement already satisfied: confection<1.0.0,>=0.0.1 in /Users/alex/opt/anaconda3/lib/python3.8/site-packages (from thinc<8.3.0,>=8.2.2->spacy<3.8.0,>=3.7.4->en_core_sci_sm==0.5.4) (0.1.3)\n",
      "Requirement already satisfied: click<9.0.0,>=7.1.1 in /Users/alex/opt/anaconda3/lib/python3.8/site-packages (from typer<0.10.0,>=0.3.0->spacy<3.8.0,>=3.7.4->en_core_sci_sm==0.5.4) (8.1.6)\n",
      "Requirement already satisfied: cloudpathlib<0.17.0,>=0.7.0 in /Users/alex/opt/anaconda3/lib/python3.8/site-packages (from weasel<0.4.0,>=0.1.0->spacy<3.8.0,>=3.7.4->en_core_sci_sm==0.5.4) (0.16.0)\n",
      "Requirement already satisfied: MarkupSafe>=2.0 in /Users/alex/opt/anaconda3/lib/python3.8/site-packages (from jinja2->spacy<3.8.0,>=3.7.4->en_core_sci_sm==0.5.4) (2.1.3)\n",
      "\u001b[33mDEPRECATION: pyodbc 4.0.0-unsupported has a non-standard version number. pip 24.1 will enforce this behaviour change. A possible replacement is to upgrade to a newer version of pyodbc or contact the author to suggest that they release a version with a conforming version number. Discussion can be found at https://github.com/pypa/pip/issues/12063\u001b[0m\u001b[33m\n",
      "\u001b[0mNote: you may need to restart the kernel to use updated packages.\n"
     ]
    },
    {
     "name": "stderr",
     "output_type": "stream",
     "text": [
      "/Users/alex/opt/anaconda3/lib/python3.8/site-packages/spacy/language.py:2195: FutureWarning: Possible set union at position 6328\n",
      "  deserializers[\"tokenizer\"] = lambda p: self.tokenizer.from_disk(  # type: ignore[union-attr]\n"
     ]
    }
   ],
   "source": [
    "%pip install \"https://s3-us-west-2.amazonaws.com/ai2-s2-scispacy/releases/v0.5.4/en_core_sci_sm-0.5.4.tar.gz\"\n",
    "nlp = spacy.load(\"en_core_sci_sm\")"
   ]
  },
  {
   "cell_type": "code",
   "execution_count": 10,
   "metadata": {},
   "outputs": [
    {
     "name": "stdout",
     "output_type": "stream",
     "text": [
      "[\n",
      "Myeloid derived suppressor cells (MDSC) are immature \n",
      "myeloid cells with immunosuppressive activity., \n",
      "They accumulate in tumor-bearing mice and humans \n",
      "with different types of cancer, including hepatocellular \n",
      "carcinoma (HCC)., \n",
      "]\n",
      "(Myeloid derived suppressor cells, MDSC, immature \n",
      ", myeloid cells, immunosuppressive activity, accumulate, tumor-bearing mice, humans, cancer, hepatocellular \n",
      "carcinoma, HCC)\n"
     ]
    },
    {
     "data": {
      "text/html": [
       "<span class=\"tex2jax_ignore\"><svg xmlns=\"http://www.w3.org/2000/svg\" xmlns:xlink=\"http://www.w3.org/1999/xlink\" xml:lang=\"en\" id=\"7e0a3d540a4e42d1a09405dfea094161-0\" class=\"displacy\" width=\"2500\" height=\"662.0\" direction=\"ltr\" style=\"max-width: none; height: 662.0px; color: #000000; background: #ffffff; font-family: Arial; direction: ltr\">\n",
       "<text class=\"displacy-token\" fill=\"currentColor\" text-anchor=\"middle\" y=\"572.0\">\n",
       "    <tspan class=\"displacy-word\" fill=\"currentColor\" x=\"50\">\n",
       "</tspan>\n",
       "    <tspan class=\"displacy-tag\" dy=\"2em\" fill=\"currentColor\" x=\"50\">SPACE</tspan>\n",
       "</text>\n",
       "\n",
       "<text class=\"displacy-token\" fill=\"currentColor\" text-anchor=\"middle\" y=\"572.0\">\n",
       "    <tspan class=\"displacy-word\" fill=\"currentColor\" x=\"225\">Myeloid</tspan>\n",
       "    <tspan class=\"displacy-tag\" dy=\"2em\" fill=\"currentColor\" x=\"225\">ADJ</tspan>\n",
       "</text>\n",
       "\n",
       "<text class=\"displacy-token\" fill=\"currentColor\" text-anchor=\"middle\" y=\"572.0\">\n",
       "    <tspan class=\"displacy-word\" fill=\"currentColor\" x=\"400\">derived</tspan>\n",
       "    <tspan class=\"displacy-tag\" dy=\"2em\" fill=\"currentColor\" x=\"400\">VERB</tspan>\n",
       "</text>\n",
       "\n",
       "<text class=\"displacy-token\" fill=\"currentColor\" text-anchor=\"middle\" y=\"572.0\">\n",
       "    <tspan class=\"displacy-word\" fill=\"currentColor\" x=\"575\">suppressor</tspan>\n",
       "    <tspan class=\"displacy-tag\" dy=\"2em\" fill=\"currentColor\" x=\"575\">NOUN</tspan>\n",
       "</text>\n",
       "\n",
       "<text class=\"displacy-token\" fill=\"currentColor\" text-anchor=\"middle\" y=\"572.0\">\n",
       "    <tspan class=\"displacy-word\" fill=\"currentColor\" x=\"750\">cells (</tspan>\n",
       "    <tspan class=\"displacy-tag\" dy=\"2em\" fill=\"currentColor\" x=\"750\">NOUN</tspan>\n",
       "</text>\n",
       "\n",
       "<text class=\"displacy-token\" fill=\"currentColor\" text-anchor=\"middle\" y=\"572.0\">\n",
       "    <tspan class=\"displacy-word\" fill=\"currentColor\" x=\"925\">MDSC)</tspan>\n",
       "    <tspan class=\"displacy-tag\" dy=\"2em\" fill=\"currentColor\" x=\"925\">NOUN</tspan>\n",
       "</text>\n",
       "\n",
       "<text class=\"displacy-token\" fill=\"currentColor\" text-anchor=\"middle\" y=\"572.0\">\n",
       "    <tspan class=\"displacy-word\" fill=\"currentColor\" x=\"1100\">are</tspan>\n",
       "    <tspan class=\"displacy-tag\" dy=\"2em\" fill=\"currentColor\" x=\"1100\">AUX</tspan>\n",
       "</text>\n",
       "\n",
       "<text class=\"displacy-token\" fill=\"currentColor\" text-anchor=\"middle\" y=\"572.0\">\n",
       "    <tspan class=\"displacy-word\" fill=\"currentColor\" x=\"1275\">immature</tspan>\n",
       "    <tspan class=\"displacy-tag\" dy=\"2em\" fill=\"currentColor\" x=\"1275\">ADJ</tspan>\n",
       "</text>\n",
       "\n",
       "<text class=\"displacy-token\" fill=\"currentColor\" text-anchor=\"middle\" y=\"572.0\">\n",
       "    <tspan class=\"displacy-word\" fill=\"currentColor\" x=\"1450\">\n",
       "</tspan>\n",
       "    <tspan class=\"displacy-tag\" dy=\"2em\" fill=\"currentColor\" x=\"1450\">SPACE</tspan>\n",
       "</text>\n",
       "\n",
       "<text class=\"displacy-token\" fill=\"currentColor\" text-anchor=\"middle\" y=\"572.0\">\n",
       "    <tspan class=\"displacy-word\" fill=\"currentColor\" x=\"1625\">myeloid</tspan>\n",
       "    <tspan class=\"displacy-tag\" dy=\"2em\" fill=\"currentColor\" x=\"1625\">ADJ</tspan>\n",
       "</text>\n",
       "\n",
       "<text class=\"displacy-token\" fill=\"currentColor\" text-anchor=\"middle\" y=\"572.0\">\n",
       "    <tspan class=\"displacy-word\" fill=\"currentColor\" x=\"1800\">cells</tspan>\n",
       "    <tspan class=\"displacy-tag\" dy=\"2em\" fill=\"currentColor\" x=\"1800\">NOUN</tspan>\n",
       "</text>\n",
       "\n",
       "<text class=\"displacy-token\" fill=\"currentColor\" text-anchor=\"middle\" y=\"572.0\">\n",
       "    <tspan class=\"displacy-word\" fill=\"currentColor\" x=\"1975\">with</tspan>\n",
       "    <tspan class=\"displacy-tag\" dy=\"2em\" fill=\"currentColor\" x=\"1975\">ADP</tspan>\n",
       "</text>\n",
       "\n",
       "<text class=\"displacy-token\" fill=\"currentColor\" text-anchor=\"middle\" y=\"572.0\">\n",
       "    <tspan class=\"displacy-word\" fill=\"currentColor\" x=\"2150\">immunosuppressive</tspan>\n",
       "    <tspan class=\"displacy-tag\" dy=\"2em\" fill=\"currentColor\" x=\"2150\">ADJ</tspan>\n",
       "</text>\n",
       "\n",
       "<text class=\"displacy-token\" fill=\"currentColor\" text-anchor=\"middle\" y=\"572.0\">\n",
       "    <tspan class=\"displacy-word\" fill=\"currentColor\" x=\"2325\">activity.</tspan>\n",
       "    <tspan class=\"displacy-tag\" dy=\"2em\" fill=\"currentColor\" x=\"2325\">NOUN</tspan>\n",
       "</text>\n",
       "\n",
       "<g class=\"displacy-arrow\">\n",
       "    <path class=\"displacy-arc\" id=\"arrow-7e0a3d540a4e42d1a09405dfea094161-0-0\" stroke-width=\"2px\" d=\"M70,527.0 C70,2.0 1800.0,2.0 1800.0,527.0\" fill=\"none\" stroke=\"currentColor\"/>\n",
       "    <text dy=\"1.25em\" style=\"font-size: 0.8em; letter-spacing: 1px\">\n",
       "        <textPath xlink:href=\"#arrow-7e0a3d540a4e42d1a09405dfea094161-0-0\" class=\"displacy-label\" startOffset=\"50%\" side=\"left\" fill=\"currentColor\" text-anchor=\"middle\">amod</textPath>\n",
       "    </text>\n",
       "    <path class=\"displacy-arrowhead\" d=\"M70,529.0 L62,517.0 78,517.0\" fill=\"currentColor\"/>\n",
       "</g>\n",
       "\n",
       "<g class=\"displacy-arrow\">\n",
       "    <path class=\"displacy-arc\" id=\"arrow-7e0a3d540a4e42d1a09405dfea094161-0-1\" stroke-width=\"2px\" d=\"M245,527.0 C245,264.5 735.0,264.5 735.0,527.0\" fill=\"none\" stroke=\"currentColor\"/>\n",
       "    <text dy=\"1.25em\" style=\"font-size: 0.8em; letter-spacing: 1px\">\n",
       "        <textPath xlink:href=\"#arrow-7e0a3d540a4e42d1a09405dfea094161-0-1\" class=\"displacy-label\" startOffset=\"50%\" side=\"left\" fill=\"currentColor\" text-anchor=\"middle\">amod</textPath>\n",
       "    </text>\n",
       "    <path class=\"displacy-arrowhead\" d=\"M245,529.0 L237,517.0 253,517.0\" fill=\"currentColor\"/>\n",
       "</g>\n",
       "\n",
       "<g class=\"displacy-arrow\">\n",
       "    <path class=\"displacy-arc\" id=\"arrow-7e0a3d540a4e42d1a09405dfea094161-0-2\" stroke-width=\"2px\" d=\"M420,527.0 C420,352.0 730.0,352.0 730.0,527.0\" fill=\"none\" stroke=\"currentColor\"/>\n",
       "    <text dy=\"1.25em\" style=\"font-size: 0.8em; letter-spacing: 1px\">\n",
       "        <textPath xlink:href=\"#arrow-7e0a3d540a4e42d1a09405dfea094161-0-2\" class=\"displacy-label\" startOffset=\"50%\" side=\"left\" fill=\"currentColor\" text-anchor=\"middle\">amod</textPath>\n",
       "    </text>\n",
       "    <path class=\"displacy-arrowhead\" d=\"M420,529.0 L412,517.0 428,517.0\" fill=\"currentColor\"/>\n",
       "</g>\n",
       "\n",
       "<g class=\"displacy-arrow\">\n",
       "    <path class=\"displacy-arc\" id=\"arrow-7e0a3d540a4e42d1a09405dfea094161-0-3\" stroke-width=\"2px\" d=\"M595,527.0 C595,439.5 725.0,439.5 725.0,527.0\" fill=\"none\" stroke=\"currentColor\"/>\n",
       "    <text dy=\"1.25em\" style=\"font-size: 0.8em; letter-spacing: 1px\">\n",
       "        <textPath xlink:href=\"#arrow-7e0a3d540a4e42d1a09405dfea094161-0-3\" class=\"displacy-label\" startOffset=\"50%\" side=\"left\" fill=\"currentColor\" text-anchor=\"middle\">compound</textPath>\n",
       "    </text>\n",
       "    <path class=\"displacy-arrowhead\" d=\"M595,529.0 L587,517.0 603,517.0\" fill=\"currentColor\"/>\n",
       "</g>\n",
       "\n",
       "<g class=\"displacy-arrow\">\n",
       "    <path class=\"displacy-arc\" id=\"arrow-7e0a3d540a4e42d1a09405dfea094161-0-4\" stroke-width=\"2px\" d=\"M770,527.0 C770,89.5 1795.0,89.5 1795.0,527.0\" fill=\"none\" stroke=\"currentColor\"/>\n",
       "    <text dy=\"1.25em\" style=\"font-size: 0.8em; letter-spacing: 1px\">\n",
       "        <textPath xlink:href=\"#arrow-7e0a3d540a4e42d1a09405dfea094161-0-4\" class=\"displacy-label\" startOffset=\"50%\" side=\"left\" fill=\"currentColor\" text-anchor=\"middle\">nsubj</textPath>\n",
       "    </text>\n",
       "    <path class=\"displacy-arrowhead\" d=\"M770,529.0 L762,517.0 778,517.0\" fill=\"currentColor\"/>\n",
       "</g>\n",
       "\n",
       "<g class=\"displacy-arrow\">\n",
       "    <path class=\"displacy-arc\" id=\"arrow-7e0a3d540a4e42d1a09405dfea094161-0-5\" stroke-width=\"2px\" d=\"M770,527.0 C770,439.5 900.0,439.5 900.0,527.0\" fill=\"none\" stroke=\"currentColor\"/>\n",
       "    <text dy=\"1.25em\" style=\"font-size: 0.8em; letter-spacing: 1px\">\n",
       "        <textPath xlink:href=\"#arrow-7e0a3d540a4e42d1a09405dfea094161-0-5\" class=\"displacy-label\" startOffset=\"50%\" side=\"left\" fill=\"currentColor\" text-anchor=\"middle\">appos</textPath>\n",
       "    </text>\n",
       "    <path class=\"displacy-arrowhead\" d=\"M900.0,529.0 L908.0,517.0 892.0,517.0\" fill=\"currentColor\"/>\n",
       "</g>\n",
       "\n",
       "<g class=\"displacy-arrow\">\n",
       "    <path class=\"displacy-arc\" id=\"arrow-7e0a3d540a4e42d1a09405dfea094161-0-6\" stroke-width=\"2px\" d=\"M1120,527.0 C1120,177.0 1790.0,177.0 1790.0,527.0\" fill=\"none\" stroke=\"currentColor\"/>\n",
       "    <text dy=\"1.25em\" style=\"font-size: 0.8em; letter-spacing: 1px\">\n",
       "        <textPath xlink:href=\"#arrow-7e0a3d540a4e42d1a09405dfea094161-0-6\" class=\"displacy-label\" startOffset=\"50%\" side=\"left\" fill=\"currentColor\" text-anchor=\"middle\">cop</textPath>\n",
       "    </text>\n",
       "    <path class=\"displacy-arrowhead\" d=\"M1120,529.0 L1112,517.0 1128,517.0\" fill=\"currentColor\"/>\n",
       "</g>\n",
       "\n",
       "<g class=\"displacy-arrow\">\n",
       "    <path class=\"displacy-arc\" id=\"arrow-7e0a3d540a4e42d1a09405dfea094161-0-7\" stroke-width=\"2px\" d=\"M1295,527.0 C1295,264.5 1785.0,264.5 1785.0,527.0\" fill=\"none\" stroke=\"currentColor\"/>\n",
       "    <text dy=\"1.25em\" style=\"font-size: 0.8em; letter-spacing: 1px\">\n",
       "        <textPath xlink:href=\"#arrow-7e0a3d540a4e42d1a09405dfea094161-0-7\" class=\"displacy-label\" startOffset=\"50%\" side=\"left\" fill=\"currentColor\" text-anchor=\"middle\">amod</textPath>\n",
       "    </text>\n",
       "    <path class=\"displacy-arrowhead\" d=\"M1295,529.0 L1287,517.0 1303,517.0\" fill=\"currentColor\"/>\n",
       "</g>\n",
       "\n",
       "<g class=\"displacy-arrow\">\n",
       "    <path class=\"displacy-arc\" id=\"arrow-7e0a3d540a4e42d1a09405dfea094161-0-8\" stroke-width=\"2px\" d=\"M1470,527.0 C1470,352.0 1780.0,352.0 1780.0,527.0\" fill=\"none\" stroke=\"currentColor\"/>\n",
       "    <text dy=\"1.25em\" style=\"font-size: 0.8em; letter-spacing: 1px\">\n",
       "        <textPath xlink:href=\"#arrow-7e0a3d540a4e42d1a09405dfea094161-0-8\" class=\"displacy-label\" startOffset=\"50%\" side=\"left\" fill=\"currentColor\" text-anchor=\"middle\">amod</textPath>\n",
       "    </text>\n",
       "    <path class=\"displacy-arrowhead\" d=\"M1470,529.0 L1462,517.0 1478,517.0\" fill=\"currentColor\"/>\n",
       "</g>\n",
       "\n",
       "<g class=\"displacy-arrow\">\n",
       "    <path class=\"displacy-arc\" id=\"arrow-7e0a3d540a4e42d1a09405dfea094161-0-9\" stroke-width=\"2px\" d=\"M1645,527.0 C1645,439.5 1775.0,439.5 1775.0,527.0\" fill=\"none\" stroke=\"currentColor\"/>\n",
       "    <text dy=\"1.25em\" style=\"font-size: 0.8em; letter-spacing: 1px\">\n",
       "        <textPath xlink:href=\"#arrow-7e0a3d540a4e42d1a09405dfea094161-0-9\" class=\"displacy-label\" startOffset=\"50%\" side=\"left\" fill=\"currentColor\" text-anchor=\"middle\">amod</textPath>\n",
       "    </text>\n",
       "    <path class=\"displacy-arrowhead\" d=\"M1645,529.0 L1637,517.0 1653,517.0\" fill=\"currentColor\"/>\n",
       "</g>\n",
       "\n",
       "<g class=\"displacy-arrow\">\n",
       "    <path class=\"displacy-arc\" id=\"arrow-7e0a3d540a4e42d1a09405dfea094161-0-10\" stroke-width=\"2px\" d=\"M1995,527.0 C1995,352.0 2305.0,352.0 2305.0,527.0\" fill=\"none\" stroke=\"currentColor\"/>\n",
       "    <text dy=\"1.25em\" style=\"font-size: 0.8em; letter-spacing: 1px\">\n",
       "        <textPath xlink:href=\"#arrow-7e0a3d540a4e42d1a09405dfea094161-0-10\" class=\"displacy-label\" startOffset=\"50%\" side=\"left\" fill=\"currentColor\" text-anchor=\"middle\">case</textPath>\n",
       "    </text>\n",
       "    <path class=\"displacy-arrowhead\" d=\"M1995,529.0 L1987,517.0 2003,517.0\" fill=\"currentColor\"/>\n",
       "</g>\n",
       "\n",
       "<g class=\"displacy-arrow\">\n",
       "    <path class=\"displacy-arc\" id=\"arrow-7e0a3d540a4e42d1a09405dfea094161-0-11\" stroke-width=\"2px\" d=\"M2170,527.0 C2170,439.5 2300.0,439.5 2300.0,527.0\" fill=\"none\" stroke=\"currentColor\"/>\n",
       "    <text dy=\"1.25em\" style=\"font-size: 0.8em; letter-spacing: 1px\">\n",
       "        <textPath xlink:href=\"#arrow-7e0a3d540a4e42d1a09405dfea094161-0-11\" class=\"displacy-label\" startOffset=\"50%\" side=\"left\" fill=\"currentColor\" text-anchor=\"middle\">amod</textPath>\n",
       "    </text>\n",
       "    <path class=\"displacy-arrowhead\" d=\"M2170,529.0 L2162,517.0 2178,517.0\" fill=\"currentColor\"/>\n",
       "</g>\n",
       "\n",
       "<g class=\"displacy-arrow\">\n",
       "    <path class=\"displacy-arc\" id=\"arrow-7e0a3d540a4e42d1a09405dfea094161-0-12\" stroke-width=\"2px\" d=\"M1820,527.0 C1820,264.5 2310.0,264.5 2310.0,527.0\" fill=\"none\" stroke=\"currentColor\"/>\n",
       "    <text dy=\"1.25em\" style=\"font-size: 0.8em; letter-spacing: 1px\">\n",
       "        <textPath xlink:href=\"#arrow-7e0a3d540a4e42d1a09405dfea094161-0-12\" class=\"displacy-label\" startOffset=\"50%\" side=\"left\" fill=\"currentColor\" text-anchor=\"middle\">nmod</textPath>\n",
       "    </text>\n",
       "    <path class=\"displacy-arrowhead\" d=\"M2310.0,529.0 L2318.0,517.0 2302.0,517.0\" fill=\"currentColor\"/>\n",
       "</g>\n",
       "</svg></span>"
      ],
      "text/plain": [
       "<IPython.core.display.HTML object>"
      ]
     },
     "metadata": {},
     "output_type": "display_data"
    }
   ],
   "source": [
    "text = \"\"\"\n",
    "Myeloid derived suppressor cells (MDSC) are immature \n",
    "myeloid cells with immunosuppressive activity. \n",
    "They accumulate in tumor-bearing mice and humans \n",
    "with different types of cancer, including hepatocellular \n",
    "carcinoma (HCC).\n",
    "\"\"\"\n",
    "doc = nlp(text)\n",
    "\n",
    "print(list(doc.sents))\n",
    "\n",
    "# Examine the entities extracted by the mention detector.\n",
    "# Note that they don't have types like in SpaCy, and they\n",
    "# are more general (e.g including verbs) - these are any\n",
    "# spans which might be an entity in UMLS, a large\n",
    "# biomedical database.\n",
    "print(doc.ents)\n",
    "\n",
    "# We can also visualise dependency parses\n",
    "# (This renders automatically inside a jupyter notebook!):\n",
    "from spacy import displacy\n",
    "displacy.render(next(doc.sents), style='dep', jupyter=True)\n",
    "\n",
    "# See below for the generated SVG.\n",
    "# Zoom your browser in a bit!\n"
   ]
  },
  {
   "cell_type": "code",
   "execution_count": null,
   "metadata": {},
   "outputs": [],
   "source": []
  }
 ],
 "metadata": {
  "kernelspec": {
   "display_name": "base",
   "language": "python",
   "name": "python3"
  },
  "language_info": {
   "codemirror_mode": {
    "name": "ipython",
    "version": 3
   },
   "file_extension": ".py",
   "mimetype": "text/x-python",
   "name": "python",
   "nbconvert_exporter": "python",
   "pygments_lexer": "ipython3",
   "version": "3.8.8"
  }
 },
 "nbformat": 4,
 "nbformat_minor": 2
}
