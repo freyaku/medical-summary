{
 "cells": [
  {
   "cell_type": "markdown",
   "metadata": {},
   "source": [
    "## Import the medical note"
   ]
  },
  {
   "cell_type": "markdown",
   "metadata": {},
   "source": [
    "Run this code to import the dataset"
   ]
  },
  {
   "cell_type": "code",
   "execution_count": 3,
   "metadata": {},
   "outputs": [],
   "source": [
    "import pandas as pd\n",
    "\n",
    "# As an example for this test, we use the discharge medical note\n",
    "# discharge_gz = 'C:/3163dataset/discharge.csv.gz'\n",
    "# discharge = pd.read_csv(discharge_gz, compression='gzip')\n",
    "\n",
    "## NOTE: below code for Alex's bughunting\n",
    "discharge = pd.read_csv(\"discharge.csv\")"
   ]
  },
  {
   "cell_type": "markdown",
   "metadata": {},
   "source": [
    "Create a variable to store a single patient's medical notes"
   ]
  },
  {
   "cell_type": "code",
   "execution_count": 5,
   "metadata": {},
   "outputs": [
    {
     "data": {
      "text/plain": [
       "0     \\nName:  ___                     Unit No:   _...\n",
       "1     \\nName:  ___                     Unit No:   _...\n",
       "2     \\nName:  ___                     Unit No:   _...\n",
       "3     \\nName:  ___                     Unit No:   _...\n",
       "Name: text, dtype: object"
      ]
     },
     "execution_count": 5,
     "metadata": {},
     "output_type": "execute_result"
    }
   ],
   "source": [
    "patient_admission_notes = discharge.loc[discharge['subject_id'] == 10000032]['text']\n",
    "patient_admission_notes"
   ]
  },
  {
   "cell_type": "markdown",
   "metadata": {},
   "source": [
    "## NLP stage "
   ]
  },
  {
   "cell_type": "markdown",
   "metadata": {},
   "source": [
    "### BART Model\n",
    "- This uses Hugging Face Transformers' BART model (standard summarizer model)\n",
    "- Install the packages: transformes AND pytorch"
   ]
  },
  {
   "cell_type": "markdown",
   "metadata": {},
   "source": [
    "Credits to: https://blog.gopenai.com/simplifying-healthcare-text-summarization-of-medical-notes-with-python-391c3a1e738d"
   ]
  },
  {
   "cell_type": "code",
   "execution_count": 6,
   "metadata": {},
   "outputs": [
    {
     "name": "stderr",
     "output_type": "stream",
     "text": [
      "/Users/alex/anaconda3/lib/python3.11/site-packages/transformers/utils/generic.py:260: UserWarning: torch.utils._pytree._register_pytree_node is deprecated. Please use torch.utils._pytree.register_pytree_node instead.\n",
      "  torch.utils._pytree._register_pytree_node(\n"
     ]
    },
    {
     "data": {
      "application/vnd.jupyter.widget-view+json": {
       "model_id": "8b5a631d98b140e2a4cbd6ab0653d6fc",
       "version_major": 2,
       "version_minor": 0
      },
      "text/plain": [
       "Downloading config.json:   0%|          | 0.00/1.58k [00:00<?, ?B/s]"
      ]
     },
     "metadata": {},
     "output_type": "display_data"
    },
    {
     "data": {
      "application/vnd.jupyter.widget-view+json": {
       "model_id": "6dd37f0721b249e58da10d8b284fec12",
       "version_major": 2,
       "version_minor": 0
      },
      "text/plain": [
       "Downloading model.safetensors:   0%|          | 0.00/1.63G [00:00<?, ?B/s]"
      ]
     },
     "metadata": {},
     "output_type": "display_data"
    },
    {
     "data": {
      "application/vnd.jupyter.widget-view+json": {
       "model_id": "d28708ce2abc48d99b6c5f13f3ee7e6f",
       "version_major": 2,
       "version_minor": 0
      },
      "text/plain": [
       "Downloading generation_config.json:   0%|          | 0.00/363 [00:00<?, ?B/s]"
      ]
     },
     "metadata": {},
     "output_type": "display_data"
    },
    {
     "data": {
      "application/vnd.jupyter.widget-view+json": {
       "model_id": "99c4f864469c4dbabff9b4b08925fb46",
       "version_major": 2,
       "version_minor": 0
      },
      "text/plain": [
       "Downloading vocab.json:   0%|          | 0.00/899k [00:00<?, ?B/s]"
      ]
     },
     "metadata": {},
     "output_type": "display_data"
    },
    {
     "data": {
      "application/vnd.jupyter.widget-view+json": {
       "model_id": "f905bdcd7927408d926171c6da218860",
       "version_major": 2,
       "version_minor": 0
      },
      "text/plain": [
       "Downloading merges.txt:   0%|          | 0.00/456k [00:00<?, ?B/s]"
      ]
     },
     "metadata": {},
     "output_type": "display_data"
    },
    {
     "name": "stdout",
     "output_type": "stream",
     "text": [
      "Pt has HCV cirrhosis c/b ascites, hiv on ART, h/o IVDU, COPD, PTSD, PTSD. She reported self-discontinuing lasix and spirnolactone because she feels like \"they don't do anything\" and that she \"doesn't want to put more chemicals in her\" In the past week, she notes that she                 has been having worsening abd distension and discomfort. She denies easy bruising, melena, BRBPR,                 hemetesis, hemoptysis, or hematuria. She also had a skin lesion, which was biopsied and showed  skin cancer per patient report. She is not aware of any liver disease or liver disease in her family. Her last alcohol consumption was one drink two months ago. She had food poisoning a week ago from eating stale                 cake (n/v 20 min after food ingestion) She denies other recent illness or sick contacts.\n"
     ]
    }
   ],
   "source": [
    "# This variable stores only one medical note\n",
    "note = patient_admission_notes[0]\n",
    "\n",
    "# INSTALL transformers AND pytorch beforehand\n",
    "from transformers import BartForConditionalGeneration, BartTokenizer\n",
    "import torch\n",
    "\n",
    "# BART model\n",
    "model_name = \"facebook/bart-large-cnn\"\n",
    "model = BartForConditionalGeneration.from_pretrained(model_name)\n",
    "tokenizer = BartTokenizer.from_pretrained(model_name)\n",
    "\n",
    "# Tokenize the medical note using the BART model and summarise the note\n",
    "inputs = tokenizer.encode(\"summarize: \" + note, return_tensors=\"pt\", max_length=1024, truncation=True)\n",
    "summary_ids = model.generate(inputs, max_length=500, min_length=200, length_penalty=2.0, num_beams=4, early_stopping=True)\n",
    "summary = tokenizer.decode(summary_ids[0], skip_special_tokens=True)\n",
    "print(summary)"
   ]
  },
  {
   "cell_type": "markdown",
   "metadata": {},
   "source": [
    "### The result using BART model"
   ]
  },
  {
   "cell_type": "markdown",
   "metadata": {},
   "source": [
    "Pt has HCV cirrhosis c/b ascites, hiv on ART, h/o IVDU, COPD, PTSD, PTSD. She reported self-discontinuing lasix and spirnolactone because she feels like \"they don't do anything\" and that she \"doesn't want to put more chemicals in her\" In the past week, she notes that she                 has been having worsening abd distension and discomfort. She denies easy bruising, melena, BRBPR,                 hemetesis, hemoptysis, or hematuria. She also had a skin lesion, which was biopsied and showed  skin cancer per patient report. She is not aware of any liver disease or liver disease in her family. Her last alcohol consumption was one drink two months ago. She had food poisoning a week ago from eating stale                 cake (n/v 20 min after food ingestion) She denies other recent illness or sick contacts."
   ]
  },
  {
   "cell_type": "markdown",
   "metadata": {},
   "source": [
    "- (+) It was able to summarise the very long medical note to a single paragraph in 41.3 seconds\n",
    "- (-) It is not a scientifically-trained model"
   ]
  },
  {
   "cell_type": "markdown",
   "metadata": {},
   "source": [
    "### BioGPT"
   ]
  },
  {
   "cell_type": "code",
   "execution_count": 8,
   "metadata": {},
   "outputs": [
    {
     "name": "stdout",
     "output_type": "stream",
     "text": [
      "Collecting sacremoses\n",
      "  Downloading sacremoses-0.1.1-py3-none-any.whl.metadata (8.3 kB)\n",
      "Requirement already satisfied: regex in /Users/alex/anaconda3/lib/python3.11/site-packages (from sacremoses) (2022.7.9)\n",
      "Requirement already satisfied: click in /Users/alex/anaconda3/lib/python3.11/site-packages (from sacremoses) (8.0.4)\n",
      "Requirement already satisfied: joblib in /Users/alex/anaconda3/lib/python3.11/site-packages (from sacremoses) (1.2.0)\n",
      "Requirement already satisfied: tqdm in /Users/alex/anaconda3/lib/python3.11/site-packages (from sacremoses) (4.65.0)\n",
      "Downloading sacremoses-0.1.1-py3-none-any.whl (897 kB)\n",
      "\u001b[2K   \u001b[90m━━━━━━━━━━━━━━━━━━━━━━━━━━━━━━━━━━━━━━━━\u001b[0m \u001b[32m897.5/897.5 kB\u001b[0m \u001b[31m2.3 MB/s\u001b[0m eta \u001b[36m0:00:00\u001b[0ma \u001b[36m0:00:01\u001b[0mm\n",
      "\u001b[?25hInstalling collected packages: sacremoses\n",
      "Successfully installed sacremoses-0.1.1\n",
      "Note: you may need to restart the kernel to use updated packages.\n"
     ]
    }
   ],
   "source": [
    "# Alex - added in pip installation for sacremoses to try to fix error for cell below\n",
    "%pip install -U sacremoses"
   ]
  },
  {
   "cell_type": "code",
   "execution_count": 12,
   "metadata": {},
   "outputs": [
    {
     "name": "stdout",
     "output_type": "stream",
     "text": [
      "summarize: Name: _ _ _ Unit No: _ _ _ Admission Date: _ _ _ Discharge Date: _ _ _ Date of Birth: _ _ _ Sex: F Service: MEDICINE Allergies: No Known Allergies / Adverse Drug Reactions Attending: _ _ _ Chief Complaint: Worsening ABD distension and pain Major Surgical or Invasive Procedure: Paracentesis History of Present Illness: _ _ _ HCV cirrhosis c / b ascites, hiv on ART, h / o IVDU, COPD, bioplar, PTSD, presented from OSH ED with worsening abd distension over past week. Pt reports self-discontinuing lasix and spirnolactone _ _ _ weeks ago, because she feels like \"they don't do anything\" and that she \"doesn't want to put more chemicals in her.\" She does not follow Na-restricted diets. In the past week, she notes that she has been having worsening abd distension and discomfort. She denies _ _ _ edema, or SOB, or orthopnea. She denies f / c / n / v, d / c, dysuria. She had food poisoning a week ago from eating stale cake (n / v 20 min after food ingestion), which resolved the same day. She denies other recent illness or sick contacts. She notes that she has been noticing gum bleeding while brushing her teeth in recent weeks. she denies easy bruising, melena, BRBPR, hemetesis, hemoptysis, or hematuria. Because of her abd pain, she went to OSH ED and was transferred to _ _ _ for further care. Per ED report, pt has brief period of confusion - she did not recall the ultrasound or bloodwork at osh. She denies recent drug use or alcohol use. She denies feeling confused, but reports that she is forgetful at times. In the ED, initial vitals were 98.4 70 106 / 63 16 97% RA Labs notable for ALT / AST / AP _ _ _ _ _ _: _ _ _, Tbili1.6, WBC 5K, platelet 77, INR 1.6 Past Medical History: 1. HCV Cirrhosis 2. No history of abnormal Pap smears. 3. She had calcification in her breast, which was removed previously and per patient not, it was benign. 4. For HIV disease, she is being followed by Dr. _ _ _ Dr. _ _ _. 5. COPD 6. Past history of smoking. 7. She also had a skin lesion, which was biopsied and showed skin cancer per patient report and is scheduled for a complete removal of the skin lesion in _ _ _ of this year. 8. She also had another lesion in her forehead with purple discoloration. It was biopsied to exclude the possibility of _ _ _'s sarcoma, the results is pending. 9. A 15 mm hypoechoic lesion on her ultrasound on _ _ _ and is being monitored by an MRI. 10. History of dysplasia of anus in _ _ _. 11. Bipolar affective disorder, currently manic, mild, and PTSD. 12. History of cocaine and heroin use. Social History: _ _ _ Family History: She a total of five siblings, but she is not talking to most of them. She only has one brother that she is in touch with and lives in _ _ _. She is not aware of any known GI or liver disease in her family. Her last alcohol consumption was one drink two months ago. No regular alcohol consumption. Last drug use _ _ _ years ago. She quit smoking a couple of years ago. Physical Exam: VS: 98.1 107 / 61 78 18 97RA General: in NAD HEENT: CTAB, anicteric sclera, OP clear Neck: supple, no LAD CV: RRR, S1S2, no m / r / g Lungs: CTAb, prolonged expiratory phase, no w / r / r Abdomen: distended, mild diffuse tenderness, + flank dullness, cannot percuss liver / spleen edge _ _ _ distension GU: no foley Ext: wwp, no c / e / e, + clubbing Neuro: AAO3, converse normally, able to recall 3 times after 5 minutes, CN II-XII intact Discharge: PHYSICAL EXAMINATION: VS: 98 105 / 70 95 General: in NAD HEENT: anicteric sclera, OP clear Neck: supple, no LAD CV: RRR, S1S2, no m / r / g Lungs: CTAb, prolonged expiratory phase, no w / r / r Abdomen: distended but improved, TTP in RUQ, GU: no foley Ext: wwp, no c / e / e, + clubbing Neuro: AAO3, CN II-XII intact Pertinent Results: _ _ _ 10: 25PM GLUCOSE-109 * UREA N /\n"
     ]
    }
   ],
   "source": [
    "# This variable stores only one medical note\n",
    "note = patient_admission_notes[0]\n",
    "\n",
    "from transformers import AutoTokenizer, BioGptForCausalLM\n",
    "\n",
    "# BioGPT\n",
    "tokenizer = AutoTokenizer.from_pretrained(\"microsoft/biogpt\")\n",
    "model = BioGptForCausalLM.from_pretrained(\"microsoft/biogpt\")\n",
    "\n",
    "# Tokenization and summarisation\n",
    "inputs = tokenizer.encode(\"summarize: \" + note, return_tensors=\"pt\", max_length=1024, truncation=True)\n",
    "summary_ids = model.generate(inputs, max_length=1025, min_length=200, length_penalty=2.0, num_beams=4, early_stopping=True)\n",
    "summary = tokenizer.decode(summary_ids[0], skip_special_tokens=True)\n",
    "print(summary)"
   ]
  },
  {
   "cell_type": "markdown",
   "metadata": {},
   "source": [
    "## Generated Sumamry Output with BioGPTForCasualLm\n",
    "\n",
    "---\n",
    "\n",
    "summarize: Name: _ _ _ Unit No: _ _ _ Admission Date: _ _ _ Discharge Date: _ _ _ Date of Birth: _ _ _ Sex: F Service: MEDICINE Allergies: No Known Allergies / Adverse Drug Reactions Attending: _ _ _ Chief Complaint: Worsening ABD distension and pain Major Surgical or Invasive Procedure: Paracentesis History of Present Illness: _ _ _ HCV cirrhosis c / b ascites, hiv on ART, h / o IVDU, COPD, bioplar, PTSD, presented from OSH ED with worsening abd distension over past week. Pt reports self-discontinuing lasix and spirnolactone _ _ _ weeks ago, because she feels like \"they don't do anything\" and that she \"doesn't want to put more chemicals in her.\" She does not follow Na-restricted diets. In the past week, she notes that she has been having worsening abd distension and discomfort. She denies _ _ _ edema, or SOB, or orthopnea. She denies f / c / n / v, d / c, dysuria. She had food poisoning a week ago from eating stale cake (n / v 20 min after food ingestion), which resolved the same day. She denies other recent illness or sick contacts. She notes that she has been noticing gum bleeding while brushing her teeth in recent weeks. she denies easy bruising, melena, BRBPR, hemetesis, hemoptysis, or hematuria. Because of her abd pain, she went to OSH ED and was transferred to _ _ _ for further care. Per ED report, pt has brief period of confusion - she did not recall the ultrasound or bloodwork at osh. She denies recent drug use or alcohol use. She denies feeling confused, but reports that she is forgetful at times. In the ED, initial vitals were 98.4 70 106 / 63 16 97% RA Labs notable for ALT / AST / AP _ _ _ _ _ _: _ _ _, Tbili1.6, WBC 5K, platelet 77, INR 1.6 Past Medical History: 1. HCV Cirrhosis 2. No history of abnormal Pap smears. 3. She had calcification in her breast, which was removed previously and per patient not, it was benign. 4. For HIV disease, she is being followed by Dr. _ _ _ Dr. _ _ _. 5. COPD 6. Past history of smoking. 7. She also had a skin lesion, which was biopsied and showed skin cancer per patient report and is scheduled for a complete removal of the skin lesion in _ _ _ of this year. 8. She also had another lesion in her forehead with purple discoloration. It was biopsied to exclude the possibility of _ _ _'s sarcoma, the results is pending. 9. A 15 mm hypoechoic lesion on her ultrasound on _ _ _ and is being monitored by an MRI. 10. History of dysplasia of anus in _ _ _. 11. Bipolar affective disorder, currently manic, mild, and PTSD. 12. History of cocaine and heroin use. Social History: _ _ _ Family History: She a total of five siblings, but she is not talking to most of them. She only has one brother that she is in touch with and lives in _ _ _. She is not aware of any known GI or liver disease in her family. Her last alcohol consumption was one drink two months ago. No regular alcohol consumption. Last drug use _ _ _ years ago. She quit smoking a couple of years ago. Physical Exam: VS: 98.1 107 / 61 78 18 97RA General: in NAD HEENT: CTAB, anicteric sclera, OP clear Neck: supple, no LAD CV: RRR, S1S2, no m / r / g Lungs: CTAb, prolonged expiratory phase, no w / r / r Abdomen: distended, mild diffuse tenderness, + flank dullness, cannot percuss liver / spleen edge _ _ _ distension GU: no foley Ext: wwp, no c / e / e, + clubbing Neuro: AAO3, converse normally, able to recall 3 times after 5 minutes, CN II-XII intact Discharge: PHYSICAL EXAMINATION: VS: 98 105 / 70 95 General: in NAD HEENT: anicteric sclera, OP clear Neck: supple, no LAD CV: RRR, S1S2, no m / r / g Lungs: CTAb, prolonged expiratory phase, no w / r / r Abdomen: distended but improved, TTP in RUQ, GU: no foley Ext: wwp, no c / e / e, + clubbing Neuro: AAO3, CN II-XII intact Pertinent Results: _ _ _ 10: 25PM GLUCOSE-109 * UREA N /\n"
   ]
  },
  {
   "cell_type": "markdown",
   "metadata": {},
   "source": [
    "Multiple patient notes"
   ]
  },
  {
   "cell_type": "code",
   "execution_count": null,
   "metadata": {},
   "outputs": [],
   "source": [
    "# TO-DO"
   ]
  }
 ],
 "metadata": {
  "kernelspec": {
   "display_name": "base",
   "language": "python",
   "name": "python3"
  },
  "language_info": {
   "codemirror_mode": {
    "name": "ipython",
    "version": 3
   },
   "file_extension": ".py",
   "mimetype": "text/x-python",
   "name": "python",
   "nbconvert_exporter": "python",
   "pygments_lexer": "ipython3",
   "version": "3.6.15"
  }
 },
 "nbformat": 4,
 "nbformat_minor": 2
}
