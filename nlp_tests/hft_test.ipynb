{
 "cells": [
  {
   "cell_type": "markdown",
   "metadata": {},
   "source": [
    "### Import the medical note"
   ]
  },
  {
   "cell_type": "markdown",
   "metadata": {},
   "source": [
    "Run this code to import the dataset"
   ]
  },
  {
   "cell_type": "code",
   "execution_count": 1,
   "metadata": {},
   "outputs": [],
   "source": [
    "import pandas as pd\n",
    "\n",
    "# As an example for this test, we use the discharge medical note\n",
    "discharge_gz = 'C:/3163dataset/discharge.csv.gz'\n",
    "discharge = pd.read_csv(discharge_gz, compression='gzip')\n",
    "\n",
    "### Alex's code ###\n",
    "# discharge = pd.read_csv(\"discharge.csv\")"
   ]
  },
  {
   "cell_type": "markdown",
   "metadata": {},
   "source": [
    "Create a variable to store a single patient's medical notes"
   ]
  },
  {
   "cell_type": "code",
   "execution_count": 3,
   "metadata": {},
   "outputs": [
    {
     "data": {
      "text/plain": [
       "0     \\nName:  ___                     Unit No:   _...\n",
       "1     \\nName:  ___                     Unit No:   _...\n",
       "2     \\nName:  ___                     Unit No:   _...\n",
       "3     \\nName:  ___                     Unit No:   _...\n",
       "Name: text, dtype: object"
      ]
     },
     "execution_count": 3,
     "metadata": {},
     "output_type": "execute_result"
    }
   ],
   "source": [
    "patient_admission_notes = discharge.loc[discharge['subject_id'] == 10000032]['text']\n",
    "patient_admission_notes"
   ]
  },
  {
   "cell_type": "markdown",
   "metadata": {},
   "source": [
    "### NLP stage "
   ]
  },
  {
   "cell_type": "markdown",
   "metadata": {},
   "source": [
    "**Hugging Face Transformers - BART model**\n",
    "\n",
    "Credits to: https://blog.gopenai.com/simplifying-healthcare-text-summarization-of-medical-notes-with-python-391c3a1e738d"
   ]
  },
  {
   "cell_type": "code",
   "execution_count": 4,
   "metadata": {},
   "outputs": [
    {
     "name": "stdout",
     "output_type": "stream",
     "text": [
      "Pt has HCV cirrhosis c/b ascites, hiv on ART, h/o IVDU, COPD, PTSD, PTSD. She reported self-discontinuing lasix and spirnolactone because she feels like \"they don't do anything\" and that she \"doesn't want to put more chemicals in her\" In the past week, she notes that she                 has been having worsening abd distension and discomfort. She denies easy bruising, melena, BRBPR,                 hemetesis, hemoptysis, or hematuria. She also had a skin lesion, which was biopsied and showed  skin cancer per patient report. She is not aware of any liver disease or liver disease in her family. Her last alcohol consumption was one drink two months ago. She had food poisoning a week ago from eating stale                 cake (n/v 20 min after food ingestion) She denies other recent illness or sick contacts.\n"
     ]
    }
   ],
   "source": [
    "# This variable stores only one medical note\n",
    "note = patient_admission_notes[0]\n",
    "\n",
    "# INSTALL transformers AND pytorch beforehand\n",
    "from transformers import BartForConditionalGeneration, BartTokenizer\n",
    "\n",
    "# BART model\n",
    "model_name = \"facebook/bart-large-cnn\"\n",
    "model = BartForConditionalGeneration.from_pretrained(model_name)\n",
    "tokenizer = BartTokenizer.from_pretrained(model_name)\n",
    "\n",
    "# Tokenize the medical note using the BART model and summarise the note\n",
    "inputs = tokenizer.encode(\"summarize: \" + note, return_tensors=\"pt\", max_length=1024, truncation=True)\n",
    "summary_ids = model.generate(inputs, max_length=500, min_length=200, length_penalty=2.0, num_beams=4, early_stopping=True)\n",
    "summary = tokenizer.decode(summary_ids[0], skip_special_tokens=True)\n",
    "print(summary)"
   ]
  },
  {
   "cell_type": "markdown",
   "metadata": {},
   "source": [
    "Pt has HCV cirrhosis c/b ascites, hiv on ART, h/o IVDU, COPD, PTSD, PTSD. She reported self-discontinuing lasix and spirnolactone because she feels like \"they don't do anything\" and that she \"doesn't want to put more chemicals in her\" In the past week, she notes that she                 has been having worsening abd distension and discomfort. She denies easy bruising, melena, BRBPR,                 hemetesis, hemoptysis, or hematuria. She also had a skin lesion, which was biopsied and showed  skin cancer per patient report. She is not aware of any liver disease or liver disease in her family. Her last alcohol consumption was one drink two months ago. She had food poisoning a week ago from eating stale                 cake (n/v 20 min after food ingestion) She denies other recent illness or sick contacts."
   ]
  },
  {
   "cell_type": "markdown",
   "metadata": {},
   "source": [
    "- (+) It was able to summarise the very long medical note to a single paragraph in 41.3 seconds\n",
    "- (-) It is not a scientifically-trained model"
   ]
  },
  {
   "cell_type": "markdown",
   "metadata": {},
   "source": [
    "**Hugging Face Transformers - BioGPT model**\n",
    "\n",
    "Credits to: https://huggingface.co/docs/transformers/en/model_doc/biogpt"
   ]
  },
  {
   "cell_type": "code",
   "execution_count": 5,
   "metadata": {},
   "outputs": [
    {
     "name": "stdout",
     "output_type": "stream",
     "text": [
      "summarize: Name: _ _ _ Unit No: _ _ _ Admission Date: _ _ _ Discharge Date: _ _ _ Date of Birth: _ _ _ Sex: F Service: MEDICINE Allergies: No Known Allergies / Adverse Drug Reactions Attending: _ _ _ Chief Complaint: Worsening ABD distension and pain Major Surgical or Invasive Procedure: Paracentesis History of Present Illness: _ _ _ HCV cirrhosis c / b ascites, hiv on ART, h / o IVDU, COPD, bioplar, PTSD, presented from OSH ED with worsening abd distension over past week. Pt reports self-discontinuing lasix and spirnolactone _ _ _ weeks ago, because she feels like \"they don't do anything\" and that she \"doesn't want to put more chemicals in her.\" She does not follow Na-restricted diets. In the past week, she notes that she has been having worsening abd distension and discomfort. She denies _ _ _ edema, or SOB, or orthopnea. She denies f / c / n / v, d / c, dysuria. She had food poisoning a week ago from eating stale cake (n / v 20 min after food ingestion), which resolved the same day. She denies other recent illness or sick contacts. She notes that she has been noticing gum bleeding while brushing her teeth in recent weeks. she denies easy bruising, melena, BRBPR, hemetesis, hemoptysis, or hematuria. Because of her abd pain, she went to OSH ED and was transferred to _ _ _ for further care. Per ED report, pt has brief period of confusion - she did not recall the ultrasound or bloodwork at osh. She denies recent drug use or alcohol use. She denies feeling confused, but reports that she is forgetful at times. In the ED, initial vitals were 98.4 70 106 / 63 16 97% RA Labs notable for ALT / AST / AP _ _ _ _ _ _: _ _ _, Tbili1.6, WBC 5K, platelet 77, INR 1.6 Past Medical History: 1. HCV Cirrhosis 2. No history of abnormal Pap smears. 3. She had calcification in her breast, which was removed previously and per patient not, it was benign. 4. For HIV disease, she is being followed by Dr. _ _ _ Dr. _ _ _. 5. COPD 6. Past history of smoking. 7. She also had a skin lesion, which was biopsied and showed skin cancer per patient report and is scheduled for a complete removal of the skin lesion in _ _ _ of this year. 8. She also had another lesion in her forehead with purple discoloration. It was biopsied to exclude the possibility of _ _ _'s sarcoma, the results is pending. 9. A 15 mm hypoechoic lesion on her ultrasound on _ _ _ and is being monitored by an MRI. 10. History of dysplasia of anus in _ _ _. 11. Bipolar affective disorder, currently manic, mild, and PTSD. 12. History of cocaine and heroin use. Social History: _ _ _ Family History: She a total of five siblings, but she is not talking to most of them. She only has one brother that she is in touch with and lives in _ _ _. She is not aware of any known GI or liver disease in her family. Her last alcohol consumption was one drink two months ago. No regular alcohol consumption. Last drug use _ _ _ years ago. She quit smoking a couple of years ago. Physical Exam: VS: 98.1 107 / 61 78 18 97RA General: in NAD HEENT: CTAB, anicteric sclera, OP clear Neck: supple, no LAD CV: RRR, S1S2, no m / r / g Lungs: CTAb, prolonged expiratory phase, no w / r / r Abdomen: distended, mild diffuse tenderness, + flank dullness, cannot percuss liver / spleen edge _ _ _ distension GU: no foley Ext: wwp, no c / e / e, + clubbing Neuro: AAO3, converse normally, able to recall 3 times after 5 minutes, CN II-XII intact Discharge: PHYSICAL EXAMINATION: VS: 98 105 / 70 95 General: in NAD HEENT: anicteric sclera, OP clear Neck: supple, no LAD CV: RRR, S1S2, no m / r / g Lungs: CTAb, prolonged expiratory phase, no w / r / r Abdomen: distended but improved, TTP in RUQ, GU: no foley Ext: wwp, no c / e / e, + clubbing Neuro: AAO3, CN II-XII intact Pertinent Results: _ _ _ 10: 25PM GLUCOSE-109 * UREA N /\n"
     ]
    }
   ],
   "source": [
    "# This variable stores only one medical note\n",
    "note = patient_admission_notes[0]\n",
    "\n",
    "# INSTALL sacremoses beforehand\n",
    "from transformers import AutoTokenizer, BioGptForCausalLM\n",
    "\n",
    "# BioGPT model\n",
    "model_name = \"microsoft/biogpt\"\n",
    "model = BioGptForCausalLM.from_pretrained(model_name)\n",
    "tokenizer = AutoTokenizer.from_pretrained(model_name)\n",
    "\n",
    "# Tokenize the medical note using the BioGPT model and summarise the note\n",
    "inputs = tokenizer.encode(\"summarize: \" + note, return_tensors=\"pt\", max_length=1024, truncation=True)\n",
    "summary_ids = model.generate(inputs, max_length=1025, min_length=200, length_penalty=2.0, num_beams=4, early_stopping=True)\n",
    "summary = tokenizer.decode(summary_ids[0], skip_special_tokens=True)\n",
    "print(summary)"
   ]
  },
  {
   "cell_type": "markdown",
   "metadata": {},
   "source": [
    "summarize: Name: _ _ _ Unit No: _ _ _ Admission Date: _ _ _ Discharge Date: _ _ _ Date of Birth: _ _ _ Sex: F Service: MEDICINE Allergies: No Known Allergies / Adverse Drug Reactions Attending: _ _ _ Chief Complaint: Worsening ABD distension and pain Major Surgical or Invasive Procedure: Paracentesis History of Present Illness: _ _ _ HCV cirrhosis c / b ascites, hiv on ART, h / o IVDU, COPD, bioplar, PTSD, presented from OSH ED with worsening abd distension over past week. Pt reports self-discontinuing lasix and spirnolactone _ _ _ weeks ago, because she feels like \"they don't do anything\" and that she \"doesn't want to put more chemicals in her.\" She does not follow Na-restricted diets. In the past week, she notes that she has been having worsening abd distension and discomfort. She denies _ _ _ edema, or SOB, or orthopnea. She denies f / c / n / v, d / c, dysuria. She had food poisoning a week ago from eating stale cake (n / v 20 min after food ingestion), which resolved the same day. She denies other recent illness or sick contacts. She notes that she has been noticing gum bleeding while brushing her teeth in recent weeks. she denies easy bruising, melena, BRBPR, hemetesis, hemoptysis, or hematuria. Because of her abd pain, she went to OSH ED and was transferred to _ _ _ for further care. Per ED report, pt has brief period of confusion - she did not recall the ultrasound or bloodwork at osh. She denies recent drug use or alcohol use. She denies feeling confused, but reports that she is forgetful at times. In the ED, initial vitals were 98.4 70 106 / 63 16 97% RA Labs notable for ALT / AST / AP _ _ _ _ _ _: _ _ _, Tbili1.6, WBC 5K, platelet 77, INR 1.6 Past Medical History: 1. HCV Cirrhosis 2. No history of abnormal Pap smears. 3. She had calcification in her breast, which was removed previously and per patient not, it was benign. 4. For HIV disease, she is being followed by Dr. _ _ _ Dr. _ _ _. 5. COPD 6. Past history of smoking. 7. She also had a skin lesion, which was biopsied and showed skin cancer per patient report and is scheduled for a complete removal of the skin lesion in _ _ _ of this year. 8. She also had another lesion in her forehead with purple discoloration. It was biopsied to exclude the possibility of _ _ _'s sarcoma, the results is pending. 9. A 15 mm hypoechoic lesion on her ultrasound on _ _ _ and is being monitored by an MRI. 10. History of dysplasia of anus in _ _ _. 11. Bipolar affective disorder, currently manic, mild, and PTSD. 12. History of cocaine and heroin use. Social History: _ _ _ Family History: She a total of five siblings, but she is not talking to most of them. She only has one brother that she is in touch with and lives in _ _ _. She is not aware of any known GI or liver disease in her family. Her last alcohol consumption was one drink two months ago. No regular alcohol consumption. Last drug use _ _ _ years ago. She quit smoking a couple of years ago. Physical Exam: VS: 98.1 107 / 61 78 18 97RA General: in NAD HEENT: CTAB, anicteric sclera, OP clear Neck: supple, no LAD CV: RRR, S1S2, no m / r / g Lungs: CTAb, prolonged expiratory phase, no w / r / r Abdomen: distended, mild diffuse tenderness, + flank dullness, cannot percuss liver / spleen edge _ _ _ distension GU: no foley Ext: wwp, no c / e / e, + clubbing Neuro: AAO3, converse normally, able to recall 3 times after 5 minutes, CN II-XII intact Discharge: PHYSICAL EXAMINATION: VS: 98 105 / 70 95 General: in NAD HEENT: anicteric sclera, OP clear Neck: supple, no LAD CV: RRR, S1S2, no m / r / g Lungs: CTAb, prolonged expiratory phase, no w / r / r Abdomen: distended but improved, TTP in RUQ, GU: no foley Ext: wwp, no c / e / e, + clubbing Neuro: AAO3, CN II-XII intact Pertinent Results: _ _ _ 10: 25PM GLUCOSE-109 * UREA N /"
   ]
  },
  {
   "cell_type": "markdown",
   "metadata": {},
   "source": [
    "- (+) It is a scientifically-trained model\n",
    "- (-) The model only tends to cut sentences and the result did not make much sense"
   ]
  },
  {
   "cell_type": "markdown",
   "metadata": {},
   "source": [
    "**Hugging Face Transformers - BERT's microsoft/BiomedNLP-BiomedBERT-base-uncased-abstract model**\n",
    "\n",
    "Credits to: https://huggingface.co/microsoft/BiomedNLP-BiomedBERT-base-uncased-abstract"
   ]
  },
  {
   "cell_type": "code",
   "execution_count": 6,
   "metadata": {},
   "outputs": [
    {
     "name": "stdout",
     "output_type": "stream",
     "text": [
      "summarize : name : _ _ _ unit no : _ _ _ admission date : _ _ _ discharge date : _ _ _ date of birth : _ _ _ sex : f service : medicine allergies : no known allergies / adverse drug reactions attending : _ _ _ chief complaint : worsening abd distension and pain major surgical or invasive procedure : paracentesis history of present illness : _ _ _ hcv cirrhosis c / b ascites, hiv on art, h / o ivdu, copd, bioplar, ptsd, presented from osh ed with worsening abd distension over past week. pt reports self - discontinuing lasix and spirnolactone _ _ _ weeks ago, because she feels like they don't do anything and that she doesn't want to put more chemicals in her. she does not follow na - restricted diets. in the past week, she notes that she has been having worsening abd distension and discomfort. she denies _ _ _ edema, or sob, or orthopnea. she denies f / c / n / v, d / c, dysuria. she had food poisoning a week ago from eating stale cake ( n / v 20 min after food ingestion ), which resolved the same day. she denies other recent illness or sick contacts. she notes that she has been noticing gum bleeding while brushing her teeth in recent weeks. she denies easy bruising, melena, brbpr, hemetesis, hemoptysis, or hematuria. because of her abd pain, she went to osh ed and was transferred to _ _ _ for further care. per ed report, pt has brief period of confusion - she did not recall the ultrasound or bloodwork at osh. she denies recent drug use or alcohol use. she denies feeling confused, but reports that she is forgetful at times. in the ed, initial vitals were 98. 4 70 106 / 63 16 97 % ra labs notable for alt / ast / ap _ _ _ _ _ _ : _ _ _, tbili1. 6, wbc 5k, platelet 77, inr 1. 6 past medical history : 1. hcv cirrhosis 2. no history of abnormal pap smears. 3. she had calcification in her breast, which was removed previously and per patient not, it was benign. 4. for hiv disease, she is being followed by dr. _ _ _ dr. _ _ _. 5. copd 6. past history of smokingt\n"
     ]
    }
   ],
   "source": [
    "# This variable stores only one medical note\n",
    "note = patient_admission_notes[0]\n",
    "\n",
    "from transformers import AutoTokenizer, BertLMHeadModel\n",
    "\n",
    "# BERT's microsoft/BiomedNLP-BiomedBERT-base-uncased-abstract model\n",
    "model_name = \"microsoft/BiomedNLP-BiomedBERT-base-uncased-abstract\"\n",
    "model = BertLMHeadModel.from_pretrained(model_name, is_decoder=True)\n",
    "tokenizer = AutoTokenizer.from_pretrained(model_name)\n",
    "\n",
    "# Tokenize the medical note using the this model and summarise the note\n",
    "inputs = tokenizer.encode(\"summarize: \" + note, return_tensors=\"pt\", max_length=512, truncation=True)\n",
    "summary_ids = model.generate(inputs, max_length=513, min_length=50, num_beams=4, early_stopping=True)\n",
    "summary = tokenizer.decode(summary_ids[0], skip_special_tokens=True)\n",
    "print(summary)"
   ]
  },
  {
   "cell_type": "markdown",
   "metadata": {},
   "source": [
    "summarize : name : _ _ _ unit no : _ _ _ admission date : _ _ _ discharge date : _ _ _ date of birth : _ _ _ sex : f service : medicine allergies : no known allergies / adverse drug reactions attending : _ _ _ chief complaint : worsening abd distension and pain major surgical or invasive procedure : paracentesis history of present illness : _ _ _ hcv cirrhosis c / b ascites, hiv on art, h / o ivdu, copd, bioplar, ptsd, presented from osh ed with worsening abd distension over past week. pt reports self - discontinuing lasix and spirnolactone _ _ _ weeks ago, because she feels like they don't do anything and that she doesn't want to put more chemicals in her. she does not follow na - restricted diets. in the past week, she notes that she has been having worsening abd distension and discomfort. she denies _ _ _ edema, or sob, or orthopnea. she denies f / c / n / v, d / c, dysuria. she had food poisoning a week ago from eating stale cake ( n / v 20 min after food ingestion ), which resolved the same day. she denies other recent illness or sick contacts. she notes that she has been noticing gum bleeding while brushing her teeth in recent weeks. she denies easy bruising, melena, brbpr, hemetesis, hemoptysis, or hematuria. because of her abd pain, she went to osh ed and was transferred to _ _ _ for further care. per ed report, pt has brief period of confusion - she did not recall the ultrasound or bloodwork at osh. she denies recent drug use or alcohol use. she denies feeling confused, but reports that she is forgetful at times. in the ed, initial vitals were 98. 4 70 106 / 63 16 97 % ra labs notable for alt / ast / ap _ _ _ _ _ _ : _ _ _, tbili1. 6, wbc 5k, platelet 77, inr 1. 6 past medical history : 1. hcv cirrhosis 2. no history of abnormal pap smears. 3. she had calcification in her breast, which was removed previously and per patient not, it was benign. 4. for hiv disease, she is being followed by dr. _ _ _ dr. _ _ _. 5. copd 6. past history of smokingt"
   ]
  },
  {
   "cell_type": "markdown",
   "metadata": {},
   "source": [
    "- (+) It is a scientifically-trained model\n",
    "- (+) It can summarise very quick (5.2 seconds)\n",
    "- (+) The result is well-summarised and makes sense"
   ]
  }
 ],
 "metadata": {
  "kernelspec": {
   "display_name": "base",
   "language": "python",
   "name": "python3"
  },
  "language_info": {
   "codemirror_mode": {
    "name": "ipython",
    "version": 3
   },
   "file_extension": ".py",
   "mimetype": "text/x-python",
   "name": "python",
   "nbconvert_exporter": "python",
   "pygments_lexer": "ipython3",
   "version": "3.9.12"
  }
 },
 "nbformat": 4,
 "nbformat_minor": 2
}
