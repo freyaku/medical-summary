{
 "cells": [
  {
   "cell_type": "markdown",
   "metadata": {},
   "source": [
    "## Import the medical note"
   ]
  },
  {
   "cell_type": "markdown",
   "metadata": {},
   "source": [
    "Run this code to import the dataset"
   ]
  },
  {
   "cell_type": "code",
   "execution_count": 1,
   "metadata": {},
   "outputs": [],
   "source": [
    "import pandas as pd\n",
    "\n",
    "# As an example for this test, we use the discharge medical note\n",
    "discharge_gz = 'C:/3163dataset/discharge.csv.gz'\n",
    "discharge = pd.read_csv(discharge_gz, compression='gzip')"
   ]
  },
  {
   "cell_type": "markdown",
   "metadata": {},
   "source": [
    "Create a variable to store a single patient's medical notes"
   ]
  },
  {
   "cell_type": "code",
   "execution_count": 2,
   "metadata": {},
   "outputs": [
    {
     "data": {
      "text/plain": [
       "0     \\nName:  ___                     Unit No:   _...\n",
       "1     \\nName:  ___                     Unit No:   _...\n",
       "2     \\nName:  ___                     Unit No:   _...\n",
       "3     \\nName:  ___                     Unit No:   _...\n",
       "Name: text, dtype: object"
      ]
     },
     "execution_count": 2,
     "metadata": {},
     "output_type": "execute_result"
    }
   ],
   "source": [
    "patient_admission_notes = discharge.loc[discharge['subject_id'] == 10000032]['text']\n",
    "patient_admission_notes"
   ]
  },
  {
   "cell_type": "markdown",
   "metadata": {},
   "source": [
    "## NLP stage "
   ]
  },
  {
   "cell_type": "markdown",
   "metadata": {},
   "source": [
    "### BART Model\n",
    "- This uses Hugging Face Transformers' BART model (standard summarizer model)\n",
    "- Install the packages: transformes AND pytorch"
   ]
  },
  {
   "cell_type": "markdown",
   "metadata": {},
   "source": [
    "Credits to: https://blog.gopenai.com/simplifying-healthcare-text-summarization-of-medical-notes-with-python-391c3a1e738d"
   ]
  },
  {
   "cell_type": "code",
   "execution_count": 3,
   "metadata": {},
   "outputs": [
    {
     "name": "stdout",
     "output_type": "stream",
     "text": [
      "Pt has HCV cirrhosis c/b ascites, hiv on ART, h/o IVDU, COPD, PTSD, PTSD. She reported self-discontinuing lasix and spirnolactone because she feels like \"they don't do anything\" and that she \"doesn't want to put more chemicals in her\" In the past week, she notes that she                 has been having worsening abd distension and discomfort. She denies easy bruising, melena, BRBPR,                 hemetesis, hemoptysis, or hematuria. She also had a skin lesion, which was biopsied and showed  skin cancer per patient report. She is not aware of any liver disease or liver disease in her family. Her last alcohol consumption was one drink two months ago. She had food poisoning a week ago from eating stale                 cake (n/v 20 min after food ingestion) She denies other recent illness or sick contacts.\n"
     ]
    }
   ],
   "source": [
    "# This variable stores only one medical note\n",
    "note = patient_admission_notes[0]\n",
    "\n",
    "# INSTALL transformers AND pytorch beforehand\n",
    "from transformers import BartForConditionalGeneration, BartTokenizer\n",
    "import torch\n",
    "\n",
    "# BART model\n",
    "model_name = \"facebook/bart-large-cnn\"\n",
    "model = BartForConditionalGeneration.from_pretrained(model_name)\n",
    "tokenizer = BartTokenizer.from_pretrained(model_name)\n",
    "\n",
    "# Tokenize the medical note using the BART model and summarise the note\n",
    "inputs = tokenizer.encode(\"summarize: \" + note, return_tensors=\"pt\", max_length=1024, truncation=True)\n",
    "summary_ids = model.generate(inputs, max_length=500, min_length=200, length_penalty=2.0, num_beams=4, early_stopping=True)\n",
    "summary = tokenizer.decode(summary_ids[0], skip_special_tokens=True)\n",
    "print(summary)"
   ]
  },
  {
   "cell_type": "markdown",
   "metadata": {},
   "source": [
    "### The result using BART model"
   ]
  },
  {
   "cell_type": "markdown",
   "metadata": {},
   "source": [
    "Pt has HCV cirrhosis c/b ascites, hiv on ART, h/o IVDU, COPD, PTSD, PTSD. She reported self-discontinuing lasix and spirnolactone because she feels like \"they don't do anything\" and that she \"doesn't want to put more chemicals in her\" In the past week, she notes that she                 has been having worsening abd distension and discomfort. She denies easy bruising, melena, BRBPR,                 hemetesis, hemoptysis, or hematuria. She also had a skin lesion, which was biopsied and showed  skin cancer per patient report. She is not aware of any liver disease or liver disease in her family. Her last alcohol consumption was one drink two months ago. She had food poisoning a week ago from eating stale                 cake (n/v 20 min after food ingestion) She denies other recent illness or sick contacts."
   ]
  },
  {
   "cell_type": "markdown",
   "metadata": {},
   "source": [
    "- (+) It was able to summarise the very long medical note to a single paragraph in 41.3 seconds\n",
    "- (-) It is not a scientifically-trained model"
   ]
  },
  {
   "cell_type": "markdown",
   "metadata": {},
   "source": [
    "Find a medically/biologically-trained model\n",
    "- Facing issues with BioGPT and BERT"
   ]
  },
  {
   "cell_type": "code",
   "execution_count": null,
   "metadata": {},
   "outputs": [],
   "source": [
    "# TO-DO"
   ]
  },
  {
   "cell_type": "markdown",
   "metadata": {},
   "source": [
    "Multiple patient notes"
   ]
  },
  {
   "cell_type": "code",
   "execution_count": null,
   "metadata": {},
   "outputs": [],
   "source": [
    "# TO-DO"
   ]
  }
 ],
 "metadata": {
  "kernelspec": {
   "display_name": "base",
   "language": "python",
   "name": "python3"
  },
  "language_info": {
   "codemirror_mode": {
    "name": "ipython",
    "version": 3
   },
   "file_extension": ".py",
   "mimetype": "text/x-python",
   "name": "python",
   "nbconvert_exporter": "python",
   "pygments_lexer": "ipython3",
   "version": "3.9.12"
  }
 },
 "nbformat": 4,
 "nbformat_minor": 2
}
